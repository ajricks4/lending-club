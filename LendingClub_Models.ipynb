{
 "cells": [
  {
   "cell_type": "code",
   "execution_count": 58,
   "metadata": {},
   "outputs": [],
   "source": [
    "import numpy as np\n",
    "import pandas as pd\n",
    "import matplotlib.pyplot as plt\n",
    "import seaborn as sns\n",
    "import pandas_profiling as pdp\n",
    "import matplotlib as mpl\n",
    "mpl.rcParams['font.size'] = 15.0\n",
    "%matplotlib inline\n",
    "import imp\n",
    "plt.style.use('seaborn-darkgrid')\n",
    "from sklearn.linear_model import LogisticRegressionCV, LogisticRegression\n",
    "from sklearn.svm import SVC\n",
    "from sklearn.tree import DecisionTreeClassifier\n",
    "from sklearn.ensemble import RandomForestClassifier, GradientBoostingClassifier, \n",
    "from xgboost import XGBRFClassifier,XGBClassifier\n",
    "from sklearn.preprocessing import OneHotEncoder, StandardScaler\n",
    "from sklearn.model_selection import StratifiedShuffleSplit, GridSearchCV, train_test_split\n",
    "from sklearn.metrics import classification_report, confusion_matrix, roc_auc_score, roc_curve, accuracy_score\n",
    "from numpy.linalg import svd\n",
    "from sklearn.pipeline import Pipeline\n",
    "from sklearn.decomposition import PCA, NMF\n",
    "from os import listdir"
   ]
  },
  {
   "cell_type": "code",
   "execution_count": 616,
   "metadata": {
    "scrolled": true
   },
   "outputs": [
    {
     "data": {
      "text/html": [
       "        <script type=\"text/javascript\">\n",
       "        window.PlotlyConfig = {MathJaxConfig: 'local'};\n",
       "        if (window.MathJax) {MathJax.Hub.Config({SVG: {font: \"STIX-Web\"}});}\n",
       "        if (typeof require !== 'undefined') {\n",
       "        require.undef(\"plotly\");\n",
       "        requirejs.config({\n",
       "            paths: {\n",
       "                'plotly': ['https://cdn.plot.ly/plotly-latest.min']\n",
       "            }\n",
       "        });\n",
       "        require(['plotly'], function(Plotly) {\n",
       "            window._Plotly = Plotly;\n",
       "        });\n",
       "        }\n",
       "        </script>\n",
       "        "
      ]
     },
     "metadata": {},
     "output_type": "display_data"
    },
    {
     "data": {
      "text/html": [
       "        <script type=\"text/javascript\">\n",
       "        window.PlotlyConfig = {MathJaxConfig: 'local'};\n",
       "        if (window.MathJax) {MathJax.Hub.Config({SVG: {font: \"STIX-Web\"}});}\n",
       "        if (typeof require !== 'undefined') {\n",
       "        require.undef(\"plotly\");\n",
       "        requirejs.config({\n",
       "            paths: {\n",
       "                'plotly': ['https://cdn.plot.ly/plotly-latest.min']\n",
       "            }\n",
       "        });\n",
       "        require(['plotly'], function(Plotly) {\n",
       "            window._Plotly = Plotly;\n",
       "        });\n",
       "        }\n",
       "        </script>\n",
       "        "
      ]
     },
     "metadata": {},
     "output_type": "display_data"
    },
    {
     "data": {
      "text/plain": [
       "<module 'src.LC_Models' from '/Users/adamricks/Documents/Galvanize/Capstone2/lending-club/src/LC_Models.py'>"
      ]
     },
     "execution_count": 616,
     "metadata": {},
     "output_type": "execute_result"
    }
   ],
   "source": [
    "import src.LC_Clean_Assist as LCC\n",
    "import src.LC_Plotter as LCP\n",
    "import src.LC_Transformer as LCT\n",
    "import src.LC_Models as LCM\n",
    "imp.reload(LCP)\n",
    "imp.reload(LCC)\n",
    "imp.reload(LCT)\n",
    "imp.reload(LCM)"
   ]
  },
  {
   "cell_type": "markdown",
   "metadata": {},
   "source": [
    "Reduce Loan dataset to 100k loans\n",
    "\n",
    "Balanced Train Set\n",
    "\n",
    "Imbalanced Test Set"
   ]
  },
  {
   "cell_type": "code",
   "execution_count": 5,
   "metadata": {
    "scrolled": true
   },
   "outputs": [],
   "source": [
    "df = pd.read_csv('data/LC_Compiled.csv',low_memory=False)\n",
    "df = LCC.clean_lc_for_plotting(df)"
   ]
  },
  {
   "cell_type": "code",
   "execution_count": 6,
   "metadata": {},
   "outputs": [],
   "source": [
    "df = LCC.clean_lc_for_models(df)\n",
    "df.to_csv('data/cleaned_data.csv',index=False)\n",
    "\n"
   ]
  },
  {
   "cell_type": "code",
   "execution_count": 372,
   "metadata": {
    "scrolled": true
   },
   "outputs": [],
   "source": [
    "df=pd.read_csv('data/cleaned_data.csv')\n"
   ]
  },
  {
   "cell_type": "code",
   "execution_count": 413,
   "metadata": {
    "scrolled": true
   },
   "outputs": [
    {
     "name": "stderr",
     "output_type": "stream",
     "text": [
      "/anaconda3/lib/python3.7/site-packages/pandas/core/frame.py:3391: SettingWithCopyWarning:\n",
      "\n",
      "\n",
      "A value is trying to be set on a copy of a slice from a DataFrame.\n",
      "Try using .loc[row_indexer,col_indexer] = value instead\n",
      "\n",
      "See the caveats in the documentation: http://pandas.pydata.org/pandas-docs/stable/indexing.html#indexing-view-versus-copy\n",
      "\n"
     ]
    },
    {
     "name": "stdout",
     "output_type": "stream",
     "text": [
      "Testing with proportion 0.01\n",
      "\n",
      "\n"
     ]
    },
    {
     "name": "stderr",
     "output_type": "stream",
     "text": [
      "/anaconda3/lib/python3.7/site-packages/sklearn/ensemble/forest.py:245: FutureWarning:\n",
      "\n",
      "The default value of n_estimators will change from 10 in version 0.20 to 100 in 0.22.\n",
      "\n"
     ]
    },
    {
     "name": "stdout",
     "output_type": "stream",
     "text": [
      "[[ 31003      1]\n",
      " [125990     13]]\n",
      "\n",
      "\n",
      "accuracy: 0.19754533237371583\n",
      "precision: 0.9285714285714286\n",
      "Return: 1.0\n",
      "Testing with proportion 0.13458333333333333\n",
      "\n",
      "\n",
      "[[ 30729    275]\n",
      " [119765   6238]]\n",
      "\n",
      "\n",
      "accuracy: 0.23544810104008101\n",
      "precision: 0.9577767541839398\n",
      "Return: 6.5\n",
      "Testing with proportion 0.25916666666666666\n",
      "\n",
      "\n",
      "[[ 29875   1129]\n",
      " [109005  16998]]\n",
      "\n",
      "\n",
      "accuracy: 0.29854082938977244\n",
      "precision: 0.9377172174104926\n",
      "Return: 6.6\n",
      "Testing with proportion 0.38375000000000004\n",
      "\n",
      "\n",
      "[[28698  2306]\n",
      " [97728 28275]]\n",
      "\n",
      "\n",
      "accuracy: 0.3628691714382161\n",
      "precision: 0.9245937019718126\n",
      "Return: 6.7\n",
      "Testing with proportion 0.5083333333333333\n",
      "\n",
      "\n",
      "[[27275  3729]\n",
      " [87912 38091]]\n",
      "\n",
      "\n",
      "accuracy: 0.4163253867661951\n",
      "precision: 0.9108321377331421\n",
      "Return: 6.8\n",
      "Testing with proportion 0.6329166666666667\n",
      "\n",
      "\n",
      "[[25864  5140]\n",
      " [78748 47255]]\n",
      "\n",
      "\n",
      "accuracy: 0.46570535071684704\n",
      "precision: 0.9018990361675733\n",
      "Return: 6.6\n",
      "Testing with proportion 0.7575000000000001\n",
      "\n",
      "\n",
      "[[24464  6540]\n",
      " [70757 55246]]\n",
      "\n",
      "\n",
      "accuracy: 0.5076843707605393\n",
      "precision: 0.8941507784935099\n",
      "Return: 6.5\n",
      "Testing with proportion 0.8820833333333333\n",
      "\n",
      "\n",
      "[[23002  8002]\n",
      " [63854 62149]]\n",
      "\n",
      "\n",
      "accuracy: 0.542338876610597\n",
      "precision: 0.8859317757409018\n",
      "Return: 6.5\n",
      "Testing with proportion 1.0066666666666666\n",
      "\n",
      "\n",
      "[[21710  9294]\n",
      " [57522 68481]]\n",
      "\n",
      "\n",
      "accuracy: 0.5744393562070481\n",
      "precision: 0.8805014464802314\n",
      "Return: 6.2\n",
      "Testing with proportion 1.13125\n",
      "\n",
      "\n",
      "[[20440 10564]\n",
      " [52049 73954]]\n",
      "\n",
      "\n",
      "accuracy: 0.6012088632990886\n",
      "precision: 0.8750088738493575\n",
      "Return: 6.3\n",
      "Testing with proportion 1.2558333333333334\n",
      "\n",
      "\n",
      "[[19286 11718]\n",
      " [47591 78412]]\n",
      "\n",
      "\n",
      "accuracy: 0.6222525110345398\n",
      "precision: 0.8699877954066348\n",
      "Return: 6.2\n",
      "Testing with proportion 1.3804166666666666\n",
      "\n",
      "\n",
      "[[18139 12865]\n",
      " [43264 82739]]\n",
      "\n",
      "\n",
      "accuracy: 0.6425063850656341\n",
      "precision: 0.8654345006485085\n",
      "Return: 6.2\n",
      "Testing with proportion 1.5050000000000001\n",
      "\n",
      "\n",
      "[[17082 13922]\n",
      " [39536 86467]]\n",
      "\n",
      "\n",
      "accuracy: 0.6595183654231976\n",
      "precision: 0.8613194672723107\n",
      "Return: 6.1\n",
      "Testing with proportion 1.6295833333333334\n",
      "\n",
      "\n",
      "[[16242 14762]\n",
      " [36175 89828]]\n",
      "\n",
      "\n",
      "accuracy: 0.6755749743642003\n",
      "precision: 0.858858399464576\n",
      "Return: 6.0\n",
      "Testing with proportion 1.7541666666666667\n",
      "\n",
      "\n",
      "[[15383 15621]\n",
      " [33338 92665]]\n",
      "\n",
      "\n",
      "accuracy: 0.688173138777252\n",
      "precision: 0.8557431246883254\n",
      "Return: 5.9\n",
      "Testing with proportion 1.8787500000000001\n",
      "\n",
      "\n",
      "[[14622 16382]\n",
      " [30820 95183]]\n",
      "\n",
      "\n",
      "accuracy: 0.6993637226365703\n",
      "precision: 0.8531618339084839\n",
      "Return: 5.8\n",
      "Testing with proportion 2.0033333333333334\n",
      "\n",
      "\n",
      "[[13784 17220]\n",
      " [28435 97568]]\n",
      "\n",
      "\n",
      "accuracy: 0.7092167865127033\n",
      "precision: 0.8499843189183538\n",
      "Return: 5.7\n",
      "Testing with proportion 2.1279166666666667\n",
      "\n",
      "\n",
      "[[13100 17904]\n",
      " [26560 99443]]\n",
      "\n",
      "\n",
      "accuracy: 0.716802435560198\n",
      "precision: 0.8474268622120719\n",
      "Return: 5.7\n",
      "Testing with proportion 2.2525\n",
      "\n",
      "\n",
      "[[ 12255  18749]\n",
      " [ 24356 101647]]\n",
      "\n",
      "\n",
      "accuracy: 0.725458100594241\n",
      "precision: 0.844272234957972\n",
      "Return: 5.5\n",
      "Testing with proportion 2.377083333333333\n",
      "\n",
      "\n",
      "[[ 11740  19264]\n",
      " [ 22720 103283]]\n",
      "\n",
      "\n",
      "accuracy: 0.7325979096473406\n",
      "precision: 0.8428031693962317\n",
      "Return: 5.5\n",
      "Testing with proportion 2.5016666666666665\n",
      "\n",
      "\n",
      "[[ 11241  19763]\n",
      " [ 21166 104837]]\n",
      "\n",
      "\n",
      "accuracy: 0.7393173552771533\n",
      "precision: 0.8413884430176565\n",
      "Return: 5.5\n",
      "Testing with proportion 2.6262499999999998\n",
      "\n",
      "\n",
      "[[ 10566  20438]\n",
      " [ 19669 106334]]\n",
      "\n",
      "\n",
      "accuracy: 0.7445527906399078\n",
      "precision: 0.838781434386142\n",
      "Return: 5.3\n",
      "Testing with proportion 2.750833333333333\n",
      "\n",
      "\n",
      "[[ 10088  20916]\n",
      " [ 18474 107529]]\n",
      "\n",
      "\n",
      "accuracy: 0.7491194660110696\n",
      "precision: 0.837159873875978\n",
      "Return: 5.3\n",
      "Testing with proportion 2.8754166666666667\n",
      "\n",
      "\n",
      "[[  9602  21402]\n",
      " [ 17051 108952]]\n",
      "\n",
      "\n",
      "accuracy: 0.7550873527931876\n",
      "precision: 0.8358163155714439\n",
      "Return: 5.3\n",
      "Testing with proportion 3.0\n",
      "\n",
      "\n",
      "[[  9073  21931]\n",
      " [ 16136 109867]]\n",
      "\n",
      "\n",
      "accuracy: 0.757545841905138\n",
      "precision: 0.8336014203553923\n",
      "Return: 5.2\n"
     ]
    }
   ],
   "source": [
    "scaled_df = LCT.lc_transform(df)\n",
    "rfc = RandomForestClassifier()\n",
    "output_df = LCM.lc_mult_evaluate(scaled_df,rfc)"
   ]
  },
  {
   "cell_type": "code",
   "execution_count": 415,
   "metadata": {
    "scrolled": true
   },
   "outputs": [
    {
     "data": {
      "text/html": [
       "<div>\n",
       "<style scoped>\n",
       "    .dataframe tbody tr th:only-of-type {\n",
       "        vertical-align: middle;\n",
       "    }\n",
       "\n",
       "    .dataframe tbody tr th {\n",
       "        vertical-align: top;\n",
       "    }\n",
       "\n",
       "    .dataframe thead th {\n",
       "        text-align: right;\n",
       "    }\n",
       "</style>\n",
       "<table border=\"1\" class=\"dataframe\">\n",
       "  <thead>\n",
       "    <tr style=\"text-align: right;\">\n",
       "      <th></th>\n",
       "      <th>Proportions</th>\n",
       "      <th>Accuracy</th>\n",
       "      <th>Precision</th>\n",
       "      <th>Returns</th>\n",
       "    </tr>\n",
       "  </thead>\n",
       "  <tbody>\n",
       "    <tr>\n",
       "      <th>0</th>\n",
       "      <td>0.010000</td>\n",
       "      <td>0.197545</td>\n",
       "      <td>0.928571</td>\n",
       "      <td>1.0</td>\n",
       "    </tr>\n",
       "    <tr>\n",
       "      <th>1</th>\n",
       "      <td>0.134583</td>\n",
       "      <td>0.235448</td>\n",
       "      <td>0.957777</td>\n",
       "      <td>6.5</td>\n",
       "    </tr>\n",
       "    <tr>\n",
       "      <th>2</th>\n",
       "      <td>0.259167</td>\n",
       "      <td>0.298541</td>\n",
       "      <td>0.937717</td>\n",
       "      <td>6.6</td>\n",
       "    </tr>\n",
       "    <tr>\n",
       "      <th>3</th>\n",
       "      <td>0.383750</td>\n",
       "      <td>0.362869</td>\n",
       "      <td>0.924594</td>\n",
       "      <td>6.7</td>\n",
       "    </tr>\n",
       "    <tr>\n",
       "      <th>4</th>\n",
       "      <td>0.508333</td>\n",
       "      <td>0.416325</td>\n",
       "      <td>0.910832</td>\n",
       "      <td>6.8</td>\n",
       "    </tr>\n",
       "    <tr>\n",
       "      <th>5</th>\n",
       "      <td>0.632917</td>\n",
       "      <td>0.465705</td>\n",
       "      <td>0.901899</td>\n",
       "      <td>6.6</td>\n",
       "    </tr>\n",
       "    <tr>\n",
       "      <th>6</th>\n",
       "      <td>0.757500</td>\n",
       "      <td>0.507684</td>\n",
       "      <td>0.894151</td>\n",
       "      <td>6.5</td>\n",
       "    </tr>\n",
       "    <tr>\n",
       "      <th>7</th>\n",
       "      <td>0.882083</td>\n",
       "      <td>0.542339</td>\n",
       "      <td>0.885932</td>\n",
       "      <td>6.5</td>\n",
       "    </tr>\n",
       "    <tr>\n",
       "      <th>8</th>\n",
       "      <td>1.006667</td>\n",
       "      <td>0.574439</td>\n",
       "      <td>0.880501</td>\n",
       "      <td>6.2</td>\n",
       "    </tr>\n",
       "    <tr>\n",
       "      <th>9</th>\n",
       "      <td>1.131250</td>\n",
       "      <td>0.601209</td>\n",
       "      <td>0.875009</td>\n",
       "      <td>6.3</td>\n",
       "    </tr>\n",
       "    <tr>\n",
       "      <th>10</th>\n",
       "      <td>1.255833</td>\n",
       "      <td>0.622253</td>\n",
       "      <td>0.869988</td>\n",
       "      <td>6.2</td>\n",
       "    </tr>\n",
       "    <tr>\n",
       "      <th>11</th>\n",
       "      <td>1.380417</td>\n",
       "      <td>0.642506</td>\n",
       "      <td>0.865435</td>\n",
       "      <td>6.2</td>\n",
       "    </tr>\n",
       "    <tr>\n",
       "      <th>12</th>\n",
       "      <td>1.505000</td>\n",
       "      <td>0.659518</td>\n",
       "      <td>0.861319</td>\n",
       "      <td>6.1</td>\n",
       "    </tr>\n",
       "    <tr>\n",
       "      <th>13</th>\n",
       "      <td>1.629583</td>\n",
       "      <td>0.675575</td>\n",
       "      <td>0.858858</td>\n",
       "      <td>6.0</td>\n",
       "    </tr>\n",
       "    <tr>\n",
       "      <th>14</th>\n",
       "      <td>1.754167</td>\n",
       "      <td>0.688173</td>\n",
       "      <td>0.855743</td>\n",
       "      <td>5.9</td>\n",
       "    </tr>\n",
       "    <tr>\n",
       "      <th>15</th>\n",
       "      <td>1.878750</td>\n",
       "      <td>0.699364</td>\n",
       "      <td>0.853162</td>\n",
       "      <td>5.8</td>\n",
       "    </tr>\n",
       "    <tr>\n",
       "      <th>16</th>\n",
       "      <td>2.003333</td>\n",
       "      <td>0.709217</td>\n",
       "      <td>0.849984</td>\n",
       "      <td>5.7</td>\n",
       "    </tr>\n",
       "    <tr>\n",
       "      <th>17</th>\n",
       "      <td>2.127917</td>\n",
       "      <td>0.716802</td>\n",
       "      <td>0.847427</td>\n",
       "      <td>5.7</td>\n",
       "    </tr>\n",
       "    <tr>\n",
       "      <th>18</th>\n",
       "      <td>2.252500</td>\n",
       "      <td>0.725458</td>\n",
       "      <td>0.844272</td>\n",
       "      <td>5.5</td>\n",
       "    </tr>\n",
       "    <tr>\n",
       "      <th>19</th>\n",
       "      <td>2.377083</td>\n",
       "      <td>0.732598</td>\n",
       "      <td>0.842803</td>\n",
       "      <td>5.5</td>\n",
       "    </tr>\n",
       "    <tr>\n",
       "      <th>20</th>\n",
       "      <td>2.501667</td>\n",
       "      <td>0.739317</td>\n",
       "      <td>0.841388</td>\n",
       "      <td>5.5</td>\n",
       "    </tr>\n",
       "    <tr>\n",
       "      <th>21</th>\n",
       "      <td>2.626250</td>\n",
       "      <td>0.744553</td>\n",
       "      <td>0.838781</td>\n",
       "      <td>5.3</td>\n",
       "    </tr>\n",
       "    <tr>\n",
       "      <th>22</th>\n",
       "      <td>2.750833</td>\n",
       "      <td>0.749119</td>\n",
       "      <td>0.837160</td>\n",
       "      <td>5.3</td>\n",
       "    </tr>\n",
       "    <tr>\n",
       "      <th>23</th>\n",
       "      <td>2.875417</td>\n",
       "      <td>0.755087</td>\n",
       "      <td>0.835816</td>\n",
       "      <td>5.3</td>\n",
       "    </tr>\n",
       "    <tr>\n",
       "      <th>24</th>\n",
       "      <td>3.000000</td>\n",
       "      <td>0.757546</td>\n",
       "      <td>0.833601</td>\n",
       "      <td>5.2</td>\n",
       "    </tr>\n",
       "  </tbody>\n",
       "</table>\n",
       "</div>"
      ],
      "text/plain": [
       "    Proportions  Accuracy  Precision  Returns\n",
       "0      0.010000  0.197545   0.928571      1.0\n",
       "1      0.134583  0.235448   0.957777      6.5\n",
       "2      0.259167  0.298541   0.937717      6.6\n",
       "3      0.383750  0.362869   0.924594      6.7\n",
       "4      0.508333  0.416325   0.910832      6.8\n",
       "5      0.632917  0.465705   0.901899      6.6\n",
       "6      0.757500  0.507684   0.894151      6.5\n",
       "7      0.882083  0.542339   0.885932      6.5\n",
       "8      1.006667  0.574439   0.880501      6.2\n",
       "9      1.131250  0.601209   0.875009      6.3\n",
       "10     1.255833  0.622253   0.869988      6.2\n",
       "11     1.380417  0.642506   0.865435      6.2\n",
       "12     1.505000  0.659518   0.861319      6.1\n",
       "13     1.629583  0.675575   0.858858      6.0\n",
       "14     1.754167  0.688173   0.855743      5.9\n",
       "15     1.878750  0.699364   0.853162      5.8\n",
       "16     2.003333  0.709217   0.849984      5.7\n",
       "17     2.127917  0.716802   0.847427      5.7\n",
       "18     2.252500  0.725458   0.844272      5.5\n",
       "19     2.377083  0.732598   0.842803      5.5\n",
       "20     2.501667  0.739317   0.841388      5.5\n",
       "21     2.626250  0.744553   0.838781      5.3\n",
       "22     2.750833  0.749119   0.837160      5.3\n",
       "23     2.875417  0.755087   0.835816      5.3\n",
       "24     3.000000  0.757546   0.833601      5.2"
      ]
     },
     "execution_count": 415,
     "metadata": {},
     "output_type": "execute_result"
    }
   ],
   "source": [
    "output_df"
   ]
  },
  {
   "cell_type": "code",
   "execution_count": 424,
   "metadata": {
    "scrolled": false
   },
   "outputs": [
    {
     "data": {
      "image/png": "[encoded data removed]",
      "text/plain": [
       "<Figure size 1440x1440 with 6 Axes>"
      ]
     },
     "metadata": {},
     "output_type": "display_data"
    }
   ],
   "source": [
    "LCP.lc_choose_proportion(output_df)"
   ]
  },
  {
   "cell_type": "code",
   "execution_count": 426,
   "metadata": {},
   "outputs": [],
   "source": [
    "X_train, X_test, y_train, y_test, train_loan_data, test_loan_data = LCT.lc_balance_sets(scaled_df,0.5)"
   ]
  },
  {
   "cell_type": "code",
   "execution_count": 544,
   "metadata": {},
   "outputs": [
    {
     "data": {
      "text/plain": [
       "GridSearchCV(cv=3, error_score='raise-deprecating',\n",
       "             estimator=LogisticRegression(C=1.0, class_weight=None, dual=False,\n",
       "                                          fit_intercept=True,\n",
       "                                          intercept_scaling=1, l1_ratio=None,\n",
       "                                          max_iter=100, multi_class='warn',\n",
       "                                          n_jobs=None, penalty='l2',\n",
       "                                          random_state=None, solver='liblinear',\n",
       "                                          tol=0.0001, verbose=0,\n",
       "                                          warm_start=False),\n",
       "             iid='warn', n_jobs=None,\n",
       "             param_grid={'C': array([1, 2, 3, 4, 5, 6, 7, 8, 9]),\n",
       "                         'penalty': ['l1', 'l2']},\n",
       "             pre_dispatch='2*n_jobs', refit=True, return_train_score=False,\n",
       "             scoring='precision', verbose=0)"
      ]
     },
     "execution_count": 544,
     "metadata": {},
     "output_type": "execute_result"
    }
   ],
   "source": [
    "# Tuning a logistic regression model\n",
    "penalty = ['l1','l2']\n",
    "C = np.arange(1,10,1)\n",
    "logm = LogisticRegression(solver = 'liblinear')\n",
    "logm_grid = GridSearchCV(logm,dict(penalty=penalty,C=C),cv=3,scoring='precision')\n",
    "logm_grid.fit(X_train,y_train)\n"
   ]
  },
  {
   "cell_type": "code",
   "execution_count": 545,
   "metadata": {
    "scrolled": true
   },
   "outputs": [
    {
     "data": {
      "text/plain": [
       "{'C': 8, 'penalty': 'l2'}"
      ]
     },
     "execution_count": 545,
     "metadata": {},
     "output_type": "execute_result"
    }
   ],
   "source": [
    "logm_grid.best_params_"
   ]
  },
  {
   "cell_type": "code",
   "execution_count": 546,
   "metadata": {
    "scrolled": true
   },
   "outputs": [
    {
     "name": "stdout",
     "output_type": "stream",
     "text": [
      "[[28039  2965]\n",
      " [86669 39334]]\n",
      "\n",
      "\n",
      "accuracy: 0.42910825631978194\n",
      "precision: 0.9299037802312111\n",
      "Return: 6.6\n"
     ]
    }
   ],
   "source": [
    "y_preds = logm_grid.best_estimator_.predict(X_test)\n",
    "log_acc,log_prec,log_ret = LCM.lc_score(y_test,y_preds,test_loan_data)"
   ]
  },
  {
   "cell_type": "code",
   "execution_count": 547,
   "metadata": {},
   "outputs": [],
   "source": [
    "log_acc = round(log_acc,2)\n",
    "log_prec = round(log_prec,2)\n",
    "log_ret = round((log_ret / 100) + 1,3)"
   ]
  },
  {
   "cell_type": "code",
   "execution_count": 467,
   "metadata": {},
   "outputs": [
    {
     "data": {
      "text/plain": [
       "GridSearchCV(cv=3, error_score='raise-deprecating',\n",
       "             estimator=RandomForestClassifier(bootstrap=True, class_weight=None,\n",
       "                                              criterion='gini', max_depth=10,\n",
       "                                              max_features='sqrt',\n",
       "                                              max_leaf_nodes=None,\n",
       "                                              min_impurity_decrease=0.0,\n",
       "                                              min_impurity_split=None,\n",
       "                                              min_samples_leaf=1,\n",
       "                                              min_samples_split=2,\n",
       "                                              min_weight_fraction_leaf=0.0,\n",
       "                                              n_estimators='warn', n_jobs=None,\n",
       "                                              oob_score=False,\n",
       "                                              random_state=None, verbose=0,\n",
       "                                              warm_start=False),\n",
       "             iid='warn', n_jobs=None,\n",
       "             param_grid={'min_samples_leaf': [15],\n",
       "                         'n_estimators': [110, 115, 120]},\n",
       "             pre_dispatch='2*n_jobs', refit=True, return_train_score=False,\n",
       "             scoring='precision', verbose=0)"
      ]
     },
     "execution_count": 467,
     "metadata": {},
     "output_type": "execute_result"
    }
   ],
   "source": [
    "params = {\n",
    " 'min_samples_leaf': [15],\n",
    " 'n_estimators': [110,115,120]}\n",
    "rfc = RandomForestClassifier(max_depth=10,max_features='sqrt')\n",
    "clf = GridSearchCV(rfc,params,scoring='precision',cv=3)\n",
    "clf.fit(X_train,y_train)"
   ]
  },
  {
   "cell_type": "code",
   "execution_count": 548,
   "metadata": {},
   "outputs": [
    {
     "data": {
      "text/plain": [
       "{'min_samples_leaf': 15, 'n_estimators': 115}"
      ]
     },
     "execution_count": 548,
     "metadata": {},
     "output_type": "execute_result"
    }
   ],
   "source": [
    "clf.best_params_"
   ]
  },
  {
   "cell_type": "code",
   "execution_count": 549,
   "metadata": {
    "scrolled": false
   },
   "outputs": [
    {
     "name": "stdout",
     "output_type": "stream",
     "text": [
      "[[28675  2329]\n",
      " [91994 34009]]\n",
      "\n",
      "\n",
      "accuracy: 0.39924334583808363\n",
      "precision: 0.9359073146568331\n",
      "Return: 6.0\n"
     ]
    }
   ],
   "source": [
    "y_preds = clf.best_estimator_.predict(X_test)\n",
    "rfc_acc,rfc_prec,rfc_ret = LCM.lc_score(y_test,y_preds,test_loan_data)"
   ]
  },
  {
   "cell_type": "code",
   "execution_count": 550,
   "metadata": {},
   "outputs": [],
   "source": [
    "rfc_acc = round(rfc_acc,2)\n",
    "rfc_prec = round(rfc_acc,2)\n",
    "rfc_ret = round((rfc_ret/100)+1,3)"
   ]
  },
  {
   "cell_type": "code",
   "execution_count": 473,
   "metadata": {},
   "outputs": [
    {
     "data": {
      "text/plain": [
       "GridSearchCV(cv=3, error_score='raise-deprecating',\n",
       "             estimator=GradientBoostingClassifier(criterion='friedman_mse',\n",
       "                                                  init=None, learning_rate=0.1,\n",
       "                                                  loss='deviance', max_depth=3,\n",
       "                                                  max_features=None,\n",
       "                                                  max_leaf_nodes=None,\n",
       "                                                  min_impurity_decrease=0.0,\n",
       "                                                  min_impurity_split=None,\n",
       "                                                  min_samples_leaf=1,\n",
       "                                                  min_samples_split=2,\n",
       "                                                  min_weight_fraction_leaf=0.0,\n",
       "                                                  n_estimators=100,\n",
       "                                                  n_iter_no_change=None,\n",
       "                                                  presort='auto',\n",
       "                                                  random_state=None,\n",
       "                                                  subsample=1.0, tol=0.0001,\n",
       "                                                  validation_fraction=0.1,\n",
       "                                                  verbose=0, warm_start=False),\n",
       "             iid='warn', n_jobs=None,\n",
       "             param_grid={'learning_rate': [0.1], 'max_depth': [3, 6],\n",
       "                         'n_estimators': [10, 50]},\n",
       "             pre_dispatch='2*n_jobs', refit=True, return_train_score=False,\n",
       "             scoring='precision', verbose=0)"
      ]
     },
     "execution_count": 473,
     "metadata": {},
     "output_type": "execute_result"
    }
   ],
   "source": [
    "params = {'n_estimators':[10,50],'learning_rate':[0.1],'max_depth':[3,6]}\n",
    "gbc = GradientBoostingClassifier()\n",
    "gbc_grid = GridSearchCV(gbc,params,scoring='precision',cv=3)\n",
    "gbc_grid.fit(X_train,y_train)"
   ]
  },
  {
   "cell_type": "code",
   "execution_count": 560,
   "metadata": {},
   "outputs": [
    {
     "data": {
      "text/plain": [
       "{'learning_rate': 0.1, 'max_depth': 6, 'n_estimators': 10}"
      ]
     },
     "execution_count": 560,
     "metadata": {},
     "output_type": "execute_result"
    }
   ],
   "source": [
    "gbc_grid.best_params_"
   ]
  },
  {
   "cell_type": "code",
   "execution_count": 572,
   "metadata": {
    "scrolled": true
   },
   "outputs": [
    {
     "name": "stdout",
     "output_type": "stream",
     "text": [
      "[[ 29805   1199]\n",
      " [103805  22198]]\n",
      "\n",
      "\n",
      "accuracy: 0.3312145318361602\n",
      "precision: 0.9487541137752703\n",
      "Return: 5.7\n"
     ]
    }
   ],
   "source": [
    "y_preds = gbc_grid.predict(X_test)\n",
    "gbc_acc, gbc_prec, gbc_ret = LCM.lc_score(y_test,y_preds,test_loan_data)"
   ]
  },
  {
   "cell_type": "code",
   "execution_count": 573,
   "metadata": {},
   "outputs": [],
   "source": [
    "gbc_acc = round(gbc_acc,2)\n",
    "gbc_prec = round(gbc_prec,2)\n",
    "gbc_ret = round((gbc_ret / 100) + 1,3)"
   ]
  },
  {
   "cell_type": "code",
   "execution_count": 487,
   "metadata": {},
   "outputs": [
    {
     "data": {
      "text/plain": [
       "GridSearchCV(cv=3, error_score='raise-deprecating',\n",
       "             estimator=XGBClassifier(base_score=0.5, booster='gbtree',\n",
       "                                     colsample_bylevel=1, colsample_bynode=1,\n",
       "                                     colsample_bytree=1, gamma=0,\n",
       "                                     learning_rate=0.01, max_delta_step=0,\n",
       "                                     max_depth=2, min_child_weight=1,\n",
       "                                     missing=None, n_estimators=9, n_jobs=1,\n",
       "                                     nthread=None, objective='binary:logistic',\n",
       "                                     random_state=0, reg_alpha=0, reg_lambda=1,\n",
       "                                     scale_pos_weight=1, seed=None, silent=None,\n",
       "                                     subsample=1, verbosity=1),\n",
       "             iid='warn', n_jobs=None, param_grid={'reg_alpha': [0.1, 0.5, 1]},\n",
       "             pre_dispatch='2*n_jobs', refit=True, return_train_score=False,\n",
       "             scoring=None, verbose=0)"
      ]
     },
     "execution_count": 487,
     "metadata": {},
     "output_type": "execute_result"
    }
   ],
   "source": [
    "params = {'reg_alpha':[0.1,0.5,1]}\n",
    "xgb = XGBClassifier(n_estimators=9,learning_rate=0.01,max_depth=2,)\n",
    "xgb_grid = GridSearchCV(xgb,params,cv=3)\n",
    "xgb_grid.fit(X_train,y_train)"
   ]
  },
  {
   "cell_type": "code",
   "execution_count": 488,
   "metadata": {},
   "outputs": [
    {
     "data": {
      "text/plain": [
       "{'reg_alpha': 0.1}"
      ]
     },
     "execution_count": 488,
     "metadata": {},
     "output_type": "execute_result"
    }
   ],
   "source": [
    "xgb_grid.best_params_"
   ]
  },
  {
   "cell_type": "code",
   "execution_count": 528,
   "metadata": {},
   "outputs": [
    {
     "name": "stdout",
     "output_type": "stream",
     "text": [
      "[[29270  1734]\n",
      " [99643 26360]]\n",
      "\n",
      "\n",
      "accuracy: 0.3543154126886062\n",
      "precision: 0.9382786360076885\n",
      "Return: 5.2\n"
     ]
    }
   ],
   "source": [
    "y_preds = xgb_grid.predict(X_test)\n",
    "xgb_acc , xgb_prec, xgb_ret = LCM.lc_score(y_test,y_preds,test_loan_data)"
   ]
  },
  {
   "cell_type": "code",
   "execution_count": 529,
   "metadata": {},
   "outputs": [],
   "source": [
    "xgb_acc = round(xgb_acc,2)\n",
    "xgb_prec = round(xgb_prec,2)\n",
    "xgb_ret = round((xgb_ret/100)+1,3)"
   ]
  },
  {
   "cell_type": "code",
   "execution_count": 507,
   "metadata": {},
   "outputs": [
    {
     "data": {
      "text/html": [
       "        <script type=\"text/javascript\">\n",
       "        window.PlotlyConfig = {MathJaxConfig: 'local'};\n",
       "        if (window.MathJax) {MathJax.Hub.Config({SVG: {font: \"STIX-Web\"}});}\n",
       "        if (typeof require !== 'undefined') {\n",
       "        require.undef(\"plotly\");\n",
       "        requirejs.config({\n",
       "            paths: {\n",
       "                'plotly': ['https://cdn.plot.ly/plotly-latest.min']\n",
       "            }\n",
       "        });\n",
       "        require(['plotly'], function(Plotly) {\n",
       "            window._Plotly = Plotly;\n",
       "        });\n",
       "        }\n",
       "        </script>\n",
       "        "
      ]
     },
     "metadata": {},
     "output_type": "display_data"
    }
   ],
   "source": [
    "import plotly\n",
    "import plotly.graph_objs as go\n",
    "from plotly.offline Hey import download_plotlyjs, init_notebook_mode, plot, iplot\n",
    "init_notebook_mode(connected=True)"
   ]
  },
  {
   "cell_type": "code",
   "execution_count": 607,
   "metadata": {
    "scrolled": false
   },
   "outputs": [
    {
     "data": {
      "application/vnd.plotly.v1+json": {
       "config": {
        "linkText": "Export to plot.ly",
        "plotlyServerURL": "https://plot.ly",
        "showLink": false
       },
       "data": [
        {
         "fill": "toself",
         "line": {
          "color": "#63AF63"
         },
         "marker": {
          "color": "#B3FFB3",
          "size": 12,
          "symbol": "square"
         },
         "mode": "lines+markers",
         "name": "",
         "r": [
          0.35,
          0.94,
          1.052
         ],
         "subplot": "polar",
         "theta": [
          "XGB Acc.",
          "XGB Prec.",
          "XGB Ret."
         ],
         "type": "scatterpolar"
        },
        {
         "fill": "toself",
         "line": {
          "color": "#63AF63"
         },
         "marker": {
          "color": "#B3FFB3",
          "size": 12,
          "symbol": "square"
         },
         "mode": "lines+markers",
         "name": "",
         "r": [
          0.43,
          0.93,
          1.066
         ],
         "subplot": "polar3",
         "theta": [
          "LogReg Acc.",
          "LogReg Prec.",
          "LogReg Ret."
         ],
         "type": "scatterpolar"
        },
        {
         "fill": "toself",
         "line": {
          "color": "#63AF63"
         },
         "marker": {
          "color": "#B3FFB3",
          "size": 12,
          "symbol": "square"
         },
         "mode": "lines+markers",
         "name": "",
         "r": [
          0.4,
          0.4,
          1.06
         ],
         "subplot": "polar2",
         "theta": [
          "RFC Acc.",
          "RFC Prec.",
          "RFC Ret."
         ],
         "type": "scatterpolar"
        },
        {
         "fill": "toself",
         "line": {
          "color": "#63AF63"
         },
         "marker": {
          "color": "#B3FFB3",
          "size": 12,
          "symbol": "square"
         },
         "mode": "lines+markers",
         "name": "",
         "r": [
          0.33,
          0.95,
          1.057
         ],
         "subplot": "polar4",
         "theta": [
          "GBC Acc.",
          "GBC Prec.",
          "GBC Ret."
         ],
         "type": "scatterpolar"
        }
       ],
       "layout": {
        "paper_bgcolor": "rgb(255, 248, 243)",
        "polar": {
         "angularaxis": {
          "direction": "counterclockwise",
          "rotation": 90,
          "tickfont": {
           "size": 12
          }
         },
         "domain": {
          "x": [
           0.6,
           1
          ],
          "y": [
           0,
           0.4
          ]
         },
         "radialaxis": {
          "tickfont": {
           "size": 8
          }
         }
        },
        "polar2": {
         "angularaxis": {
          "direction": "counterclockwise",
          "rotation": 90,
          "tickfont": {
           "size": 12
          }
         },
         "domain": {
          "x": [
           0.6,
           1
          ],
          "y": [
           0.6,
           1
          ]
         },
         "radialaxis": {
          "tickfont": {
           "size": 8
          }
         }
        },
        "polar3": {
         "angularaxis": {
          "direction": "counterclockwise",
          "rotation": 90,
          "tickfont": {
           "size": 12
          }
         },
         "domain": {
          "x": [
           0,
           0.4
          ],
          "y": [
           0.6,
           1
          ]
         },
         "radialaxis": {
          "tickfont": {
           "size": 8
          }
         }
        },
        "polar4": {
         "angularaxis": {
          "direction": "counterclockwise",
          "rotation": 90,
          "tickfont": {
           "size": 12
          }
         },
         "domain": {
          "x": [
           0,
           0.4
          ],
          "y": [
           0,
           0.4
          ]
         },
         "radialaxis": {
          "tickfont": {
           "size": 8
          }
         }
        },
        "showlegend": false,
        "template": {
         "data": {
          "bar": [
           {
            "error_x": {
             "color": "#2a3f5f"
            },
            "error_y": {
             "color": "#2a3f5f"
            },
            "marker": {
             "line": {
              "color": "#E5ECF6",
              "width": 0.5
             }
            },
            "type": "bar"
           }
          ],
          "barpolar": [
           {
            "marker": {
             "line": {
              "color": "#E5ECF6",
              "width": 0.5
             }
            },
            "type": "barpolar"
           }
          ],
          "carpet": [
           {
            "aaxis": {
             "endlinecolor": "#2a3f5f",
             "gridcolor": "white",
             "linecolor": "white",
             "minorgridcolor": "white",
             "startlinecolor": "#2a3f5f"
            },
            "baxis": {
             "endlinecolor": "#2a3f5f",
             "gridcolor": "white",
             "linecolor": "white",
             "minorgridcolor": "white",
             "startlinecolor": "#2a3f5f"
            },
            "type": "carpet"
           }
          ],
          "choropleth": [
           {
            "colorbar": {
             "outlinewidth": 0,
             "ticks": ""
            },
            "type": "choropleth"
           }
          ],
          "contour": [
           {
            "colorbar": {
             "outlinewidth": 0,
             "ticks": ""
            },
            "colorscale": [
             [
              0,
              "#0d0887"
             ],
             [
              0.1111111111111111,
              "#46039f"
             ],
             [
              0.2222222222222222,
              "#7201a8"
             ],
             [
              0.3333333333333333,
              "#9c179e"
             ],
             [
              0.4444444444444444,
              "#bd3786"
             ],
             [
              0.5555555555555556,
              "#d8576b"
             ],
             [
              0.6666666666666666,
              "#ed7953"
             ],
             [
              0.7777777777777778,
              "#fb9f3a"
             ],
             [
              0.8888888888888888,
              "#fdca26"
             ],
             [
              1,
              "#f0f921"
             ]
            ],
            "type": "contour"
           }
          ],
          "contourcarpet": [
           {
            "colorbar": {
             "outlinewidth": 0,
             "ticks": ""
            },
            "type": "contourcarpet"
           }
          ],
          "heatmap": [
           {
            "colorbar": {
             "outlinewidth": 0,
             "ticks": ""
            },
            "colorscale": [
             [
              0,
              "#0d0887"
             ],
             [
              0.1111111111111111,
              "#46039f"
             ],
             [
              0.2222222222222222,
              "#7201a8"
             ],
             [
              0.3333333333333333,
              "#9c179e"
             ],
             [
              0.4444444444444444,
              "#bd3786"
             ],
             [
              0.5555555555555556,
              "#d8576b"
             ],
             [
              0.6666666666666666,
              "#ed7953"
             ],
             [
              0.7777777777777778,
              "#fb9f3a"
             ],
             [
              0.8888888888888888,
              "#fdca26"
             ],
             [
              1,
              "#f0f921"
             ]
            ],
            "type": "heatmap"
           }
          ],
          "heatmapgl": [
           {
            "colorbar": {
             "outlinewidth": 0,
             "ticks": ""
            },
            "colorscale": [
             [
              0,
              "#0d0887"
             ],
             [
              0.1111111111111111,
              "#46039f"
             ],
             [
              0.2222222222222222,
              "#7201a8"
             ],
             [
              0.3333333333333333,
              "#9c179e"
             ],
             [
              0.4444444444444444,
              "#bd3786"
             ],
             [
              0.5555555555555556,
              "#d8576b"
             ],
             [
              0.6666666666666666,
              "#ed7953"
             ],
             [
              0.7777777777777778,
              "#fb9f3a"
             ],
             [
              0.8888888888888888,
              "#fdca26"
             ],
             [
              1,
              "#f0f921"
             ]
            ],
            "type": "heatmapgl"
           }
          ],
          "histogram": [
           {
            "marker": {
             "colorbar": {
              "outlinewidth": 0,
              "ticks": ""
             }
            },
            "type": "histogram"
           }
          ],
          "histogram2d": [
           {
            "colorbar": {
             "outlinewidth": 0,
             "ticks": ""
            },
            "colorscale": [
             [
              0,
              "#0d0887"
             ],
             [
              0.1111111111111111,
              "#46039f"
             ],
             [
              0.2222222222222222,
              "#7201a8"
             ],
             [
              0.3333333333333333,
              "#9c179e"
             ],
             [
              0.4444444444444444,
              "#bd3786"
             ],
             [
              0.5555555555555556,
              "#d8576b"
             ],
             [
              0.6666666666666666,
              "#ed7953"
             ],
             [
              0.7777777777777778,
              "#fb9f3a"
             ],
             [
              0.8888888888888888,
              "#fdca26"
             ],
             [
              1,
              "#f0f921"
             ]
            ],
            "type": "histogram2d"
           }
          ],
          "histogram2dcontour": [
           {
            "colorbar": {
             "outlinewidth": 0,
             "ticks": ""
            },
            "colorscale": [
             [
              0,
              "#0d0887"
             ],
             [
              0.1111111111111111,
              "#46039f"
             ],
             [
              0.2222222222222222,
              "#7201a8"
             ],
             [
              0.3333333333333333,
              "#9c179e"
             ],
             [
              0.4444444444444444,
              "#bd3786"
             ],
             [
              0.5555555555555556,
              "#d8576b"
             ],
             [
              0.6666666666666666,
              "#ed7953"
             ],
             [
              0.7777777777777778,
              "#fb9f3a"
             ],
             [
              0.8888888888888888,
              "#fdca26"
             ],
             [
              1,
              "#f0f921"
             ]
            ],
            "type": "histogram2dcontour"
           }
          ],
          "mesh3d": [
           {
            "colorbar": {
             "outlinewidth": 0,
             "ticks": ""
            },
            "type": "mesh3d"
           }
          ],
          "parcoords": [
           {
            "line": {
             "colorbar": {
              "outlinewidth": 0,
              "ticks": ""
             }
            },
            "type": "parcoords"
           }
          ],
          "scatter": [
           {
            "marker": {
             "colorbar": {
              "outlinewidth": 0,
              "ticks": ""
             }
            },
            "type": "scatter"
           }
          ],
          "scatter3d": [
           {
            "line": {
             "colorbar": {
              "outlinewidth": 0,
              "ticks": ""
             }
            },
            "marker": {
             "colorbar": {
              "outlinewidth": 0,
              "ticks": ""
             }
            },
            "type": "scatter3d"
           }
          ],
          "scattercarpet": [
           {
            "marker": {
             "colorbar": {
              "outlinewidth": 0,
              "ticks": ""
             }
            },
            "type": "scattercarpet"
           }
          ],
          "scattergeo": [
           {
            "marker": {
             "colorbar": {
              "outlinewidth": 0,
              "ticks": ""
             }
            },
            "type": "scattergeo"
           }
          ],
          "scattergl": [
           {
            "marker": {
             "colorbar": {
              "outlinewidth": 0,
              "ticks": ""
             }
            },
            "type": "scattergl"
           }
          ],
          "scattermapbox": [
           {
            "marker": {
             "colorbar": {
              "outlinewidth": 0,
              "ticks": ""
             }
            },
            "type": "scattermapbox"
           }
          ],
          "scatterpolar": [
           {
            "marker": {
             "colorbar": {
              "outlinewidth": 0,
              "ticks": ""
             }
            },
            "type": "scatterpolar"
           }
          ],
          "scatterpolargl": [
           {
            "marker": {
             "colorbar": {
              "outlinewidth": 0,
              "ticks": ""
             }
            },
            "type": "scatterpolargl"
           }
          ],
          "scatterternary": [
           {
            "marker": {
             "colorbar": {
              "outlinewidth": 0,
              "ticks": ""
             }
            },
            "type": "scatterternary"
           }
          ],
          "surface": [
           {
            "colorbar": {
             "outlinewidth": 0,
             "ticks": ""
            },
            "colorscale": [
             [
              0,
              "#0d0887"
             ],
             [
              0.1111111111111111,
              "#46039f"
             ],
             [
              0.2222222222222222,
              "#7201a8"
             ],
             [
              0.3333333333333333,
              "#9c179e"
             ],
             [
              0.4444444444444444,
              "#bd3786"
             ],
             [
              0.5555555555555556,
              "#d8576b"
             ],
             [
              0.6666666666666666,
              "#ed7953"
             ],
             [
              0.7777777777777778,
              "#fb9f3a"
             ],
             [
              0.8888888888888888,
              "#fdca26"
             ],
             [
              1,
              "#f0f921"
             ]
            ],
            "type": "surface"
           }
          ],
          "table": [
           {
            "cells": {
             "fill": {
              "color": "#EBF0F8"
             },
             "line": {
              "color": "white"
             }
            },
            "header": {
             "fill": {
              "color": "#C8D4E3"
             },
             "line": {
              "color": "white"
             }
            },
            "type": "table"
           }
          ]
         },
         "layout": {
          "annotationdefaults": {
           "arrowcolor": "#2a3f5f",
           "arrowhead": 0,
           "arrowwidth": 1
          },
          "colorscale": {
           "diverging": [
            [
             0,
             "#8e0152"
            ],
            [
             0.1,
             "#c51b7d"
            ],
            [
             0.2,
             "#de77ae"
            ],
            [
             0.3,
             "#f1b6da"
            ],
            [
             0.4,
             "#fde0ef"
            ],
            [
             0.5,
             "#f7f7f7"
            ],
            [
             0.6,
             "#e6f5d0"
            ],
            [
             0.7,
             "#b8e186"
            ],
            [
             0.8,
             "#7fbc41"
            ],
            [
             0.9,
             "#4d9221"
            ],
            [
             1,
             "#276419"
            ]
           ],
           "sequential": [
            [
             0,
             "#0d0887"
            ],
            [
             0.1111111111111111,
             "#46039f"
            ],
            [
             0.2222222222222222,
             "#7201a8"
            ],
            [
             0.3333333333333333,
             "#9c179e"
            ],
            [
             0.4444444444444444,
             "#bd3786"
            ],
            [
             0.5555555555555556,
             "#d8576b"
            ],
            [
             0.6666666666666666,
             "#ed7953"
            ],
            [
             0.7777777777777778,
             "#fb9f3a"
            ],
            [
             0.8888888888888888,
             "#fdca26"
            ],
            [
             1,
             "#f0f921"
            ]
           ],
           "sequentialminus": [
            [
             0,
             "#0d0887"
            ],
            [
             0.1111111111111111,
             "#46039f"
            ],
            [
             0.2222222222222222,
             "#7201a8"
            ],
            [
             0.3333333333333333,
             "#9c179e"
            ],
            [
             0.4444444444444444,
             "#bd3786"
            ],
            [
             0.5555555555555556,
             "#d8576b"
            ],
            [
             0.6666666666666666,
             "#ed7953"
            ],
            [
             0.7777777777777778,
             "#fb9f3a"
            ],
            [
             0.8888888888888888,
             "#fdca26"
            ],
            [
             1,
             "#f0f921"
            ]
           ]
          },
          "colorway": [
           "#636efa",
           "#EF553B",
           "#00cc96",
           "#ab63fa",
           "#FFA15A",
           "#19d3f3",
           "#FF6692",
           "#B6E880",
           "#FF97FF",
           "#FECB52"
          ],
          "font": {
           "color": "#2a3f5f"
          },
          "geo": {
           "bgcolor": "white",
           "lakecolor": "white",
           "landcolor": "#E5ECF6",
           "showlakes": true,
           "showland": true,
           "subunitcolor": "white"
          },
          "hoverlabel": {
           "align": "left"
          },
          "hovermode": "closest",
          "mapbox": {
           "style": "light"
          },
          "paper_bgcolor": "white",
          "plot_bgcolor": "#E5ECF6",
          "polar": {
           "angularaxis": {
            "gridcolor": "white",
            "linecolor": "white",
            "ticks": ""
           },
           "bgcolor": "#E5ECF6",
           "radialaxis": {
            "gridcolor": "white",
            "linecolor": "white",
            "ticks": ""
           }
          },
          "scene": {
           "xaxis": {
            "backgroundcolor": "#E5ECF6",
            "gridcolor": "white",
            "gridwidth": 2,
            "linecolor": "white",
            "showbackground": true,
            "ticks": "",
            "zerolinecolor": "white"
           },
           "yaxis": {
            "backgroundcolor": "#E5ECF6",
            "gridcolor": "white",
            "gridwidth": 2,
            "linecolor": "white",
            "showbackground": true,
            "ticks": "",
            "zerolinecolor": "white"
           },
           "zaxis": {
            "backgroundcolor": "#E5ECF6",
            "gridcolor": "white",
            "gridwidth": 2,
            "linecolor": "white",
            "showbackground": true,
            "ticks": "",
            "zerolinecolor": "white"
           }
          },
          "shapedefaults": {
           "line": {
            "color": "#2a3f5f"
           }
          },
          "ternary": {
           "aaxis": {
            "gridcolor": "white",
            "linecolor": "white",
            "ticks": ""
           },
           "baxis": {
            "gridcolor": "white",
            "linecolor": "white",
            "ticks": ""
           },
           "bgcolor": "#E5ECF6",
           "caxis": {
            "gridcolor": "white",
            "linecolor": "white",
            "ticks": ""
           }
          },
          "title": {
           "x": 0.05
          },
          "xaxis": {
           "automargin": true,
           "gridcolor": "white",
           "linecolor": "white",
           "ticks": "",
           "zerolinecolor": "white",
           "zerolinewidth": 2
          },
          "yaxis": {
           "automargin": true,
           "gridcolor": "white",
           "linecolor": "white",
           "ticks": "",
           "zerolinecolor": "white",
           "zerolinewidth": 2
          }
         }
        },
        "title": {
         "text": "Evaluating Models"
        }
       }
      },
      "text/html": [
       "<div>\n",
       "        \n",
       "        \n",
       "            <div id=\"3f8e19ee-9e2c-4ef0-9959-1462db43d314\" class=\"plotly-graph-div\" style=\"height:525px; width:100%;\"></div>\n",
       "            <script type=\"text/javascript\">\n",
       "                require([\"plotly\"], function(Plotly) {\n",
       "                    window.PLOTLYENV=window.PLOTLYENV || {};\n",
       "                    \n",
       "                if (document.getElementById(\"3f8e19ee-9e2c-4ef0-9959-1462db43d314\")) {\n",
       "                    Plotly.newPlot(\n",
       "                        '3f8e19ee-9e2c-4ef0-9959-1462db43d314',\n",
       "                        [{\"fill\": \"toself\", \"line\": {\"color\": \"#63AF63\"}, \"marker\": {\"color\": \"#B3FFB3\", \"size\": 12, \"symbol\": \"square\"}, \"mode\": \"lines+markers\", \"name\": \"\", \"r\": [0.35, 0.94, 1.052], \"subplot\": \"polar\", \"theta\": [\"XGB Acc.\", \"XGB Prec.\", \"XGB Ret.\"], \"type\": \"scatterpolar\"}, {\"fill\": \"toself\", \"line\": {\"color\": \"#63AF63\"}, \"marker\": {\"color\": \"#B3FFB3\", \"size\": 12, \"symbol\": \"square\"}, \"mode\": \"lines+markers\", \"name\": \"\", \"r\": [0.43, 0.93, 1.066], \"subplot\": \"polar3\", \"theta\": [\"LogReg Acc.\", \"LogReg Prec.\", \"LogReg Ret.\"], \"type\": \"scatterpolar\"}, {\"fill\": \"toself\", \"line\": {\"color\": \"#63AF63\"}, \"marker\": {\"color\": \"#B3FFB3\", \"size\": 12, \"symbol\": \"square\"}, \"mode\": \"lines+markers\", \"name\": \"\", \"r\": [0.4, 0.4, 1.06], \"subplot\": \"polar2\", \"theta\": [\"RFC Acc.\", \"RFC Prec.\", \"RFC Ret.\"], \"type\": \"scatterpolar\"}, {\"fill\": \"toself\", \"line\": {\"color\": \"#63AF63\"}, \"marker\": {\"color\": \"#B3FFB3\", \"size\": 12, \"symbol\": \"square\"}, \"mode\": \"lines+markers\", \"name\": \"\", \"r\": [0.33, 0.95, 1.057], \"subplot\": \"polar4\", \"theta\": [\"GBC Acc.\", \"GBC Prec.\", \"GBC Ret.\"], \"type\": \"scatterpolar\"}],\n",
       "                        {\"paper_bgcolor\": \"rgb(255, 248, 243)\", \"polar\": {\"angularaxis\": {\"direction\": \"counterclockwise\", \"rotation\": 90, \"tickfont\": {\"size\": 12}}, \"domain\": {\"x\": [0.6, 1.0], \"y\": [0.0, 0.4]}, \"radialaxis\": {\"tickfont\": {\"size\": 8}}}, \"polar2\": {\"angularaxis\": {\"direction\": \"counterclockwise\", \"rotation\": 90, \"tickfont\": {\"size\": 12}}, \"domain\": {\"x\": [0.6, 1], \"y\": [0.6, 1]}, \"radialaxis\": {\"tickfont\": {\"size\": 8}}}, \"polar3\": {\"angularaxis\": {\"direction\": \"counterclockwise\", \"rotation\": 90, \"tickfont\": {\"size\": 12}}, \"domain\": {\"x\": [0.0, 0.4], \"y\": [0.6, 1.0]}, \"radialaxis\": {\"tickfont\": {\"size\": 8}}}, \"polar4\": {\"angularaxis\": {\"direction\": \"counterclockwise\", \"rotation\": 90, \"tickfont\": {\"size\": 12}}, \"domain\": {\"x\": [0.0, 0.4], \"y\": [0.0, 0.4]}, \"radialaxis\": {\"tickfont\": {\"size\": 8}}}, \"showlegend\": false, \"template\": {\"data\": {\"bar\": [{\"error_x\": {\"color\": \"#2a3f5f\"}, \"error_y\": {\"color\": \"#2a3f5f\"}, \"marker\": {\"line\": {\"color\": \"#E5ECF6\", \"width\": 0.5}}, \"type\": \"bar\"}], \"barpolar\": [{\"marker\": {\"line\": {\"color\": \"#E5ECF6\", \"width\": 0.5}}, \"type\": \"barpolar\"}], \"carpet\": [{\"aaxis\": {\"endlinecolor\": \"#2a3f5f\", \"gridcolor\": \"white\", \"linecolor\": \"white\", \"minorgridcolor\": \"white\", \"startlinecolor\": \"#2a3f5f\"}, \"baxis\": {\"endlinecolor\": \"#2a3f5f\", \"gridcolor\": \"white\", \"linecolor\": \"white\", \"minorgridcolor\": \"white\", \"startlinecolor\": \"#2a3f5f\"}, \"type\": \"carpet\"}], \"choropleth\": [{\"colorbar\": {\"outlinewidth\": 0, \"ticks\": \"\"}, \"type\": \"choropleth\"}], \"contour\": [{\"colorbar\": {\"outlinewidth\": 0, \"ticks\": \"\"}, \"colorscale\": [[0.0, \"#0d0887\"], [0.1111111111111111, \"#46039f\"], [0.2222222222222222, \"#7201a8\"], [0.3333333333333333, \"#9c179e\"], [0.4444444444444444, \"#bd3786\"], [0.5555555555555556, \"#d8576b\"], [0.6666666666666666, \"#ed7953\"], [0.7777777777777778, \"#fb9f3a\"], [0.8888888888888888, \"#fdca26\"], [1.0, \"#f0f921\"]], \"type\": \"contour\"}], \"contourcarpet\": [{\"colorbar\": {\"outlinewidth\": 0, \"ticks\": \"\"}, \"type\": \"contourcarpet\"}], \"heatmap\": [{\"colorbar\": {\"outlinewidth\": 0, \"ticks\": \"\"}, \"colorscale\": [[0.0, \"#0d0887\"], [0.1111111111111111, \"#46039f\"], [0.2222222222222222, \"#7201a8\"], [0.3333333333333333, \"#9c179e\"], [0.4444444444444444, \"#bd3786\"], [0.5555555555555556, \"#d8576b\"], [0.6666666666666666, \"#ed7953\"], [0.7777777777777778, \"#fb9f3a\"], [0.8888888888888888, \"#fdca26\"], [1.0, \"#f0f921\"]], \"type\": \"heatmap\"}], \"heatmapgl\": [{\"colorbar\": {\"outlinewidth\": 0, \"ticks\": \"\"}, \"colorscale\": [[0.0, \"#0d0887\"], [0.1111111111111111, \"#46039f\"], [0.2222222222222222, \"#7201a8\"], [0.3333333333333333, \"#9c179e\"], [0.4444444444444444, \"#bd3786\"], [0.5555555555555556, \"#d8576b\"], [0.6666666666666666, \"#ed7953\"], [0.7777777777777778, \"#fb9f3a\"], [0.8888888888888888, \"#fdca26\"], [1.0, \"#f0f921\"]], \"type\": \"heatmapgl\"}], \"histogram\": [{\"marker\": {\"colorbar\": {\"outlinewidth\": 0, \"ticks\": \"\"}}, \"type\": \"histogram\"}], \"histogram2d\": [{\"colorbar\": {\"outlinewidth\": 0, \"ticks\": \"\"}, \"colorscale\": [[0.0, \"#0d0887\"], [0.1111111111111111, \"#46039f\"], [0.2222222222222222, \"#7201a8\"], [0.3333333333333333, \"#9c179e\"], [0.4444444444444444, \"#bd3786\"], [0.5555555555555556, \"#d8576b\"], [0.6666666666666666, \"#ed7953\"], [0.7777777777777778, \"#fb9f3a\"], [0.8888888888888888, \"#fdca26\"], [1.0, \"#f0f921\"]], \"type\": \"histogram2d\"}], \"histogram2dcontour\": [{\"colorbar\": {\"outlinewidth\": 0, \"ticks\": \"\"}, \"colorscale\": [[0.0, \"#0d0887\"], [0.1111111111111111, \"#46039f\"], [0.2222222222222222, \"#7201a8\"], [0.3333333333333333, \"#9c179e\"], [0.4444444444444444, \"#bd3786\"], [0.5555555555555556, \"#d8576b\"], [0.6666666666666666, \"#ed7953\"], [0.7777777777777778, \"#fb9f3a\"], [0.8888888888888888, \"#fdca26\"], [1.0, \"#f0f921\"]], \"type\": \"histogram2dcontour\"}], \"mesh3d\": [{\"colorbar\": {\"outlinewidth\": 0, \"ticks\": \"\"}, \"type\": \"mesh3d\"}], \"parcoords\": [{\"line\": {\"colorbar\": {\"outlinewidth\": 0, \"ticks\": \"\"}}, \"type\": \"parcoords\"}], \"scatter\": [{\"marker\": {\"colorbar\": {\"outlinewidth\": 0, \"ticks\": \"\"}}, \"type\": \"scatter\"}], \"scatter3d\": [{\"line\": {\"colorbar\": {\"outlinewidth\": 0, \"ticks\": \"\"}}, \"marker\": {\"colorbar\": {\"outlinewidth\": 0, \"ticks\": \"\"}}, \"type\": \"scatter3d\"}], \"scattercarpet\": [{\"marker\": {\"colorbar\": {\"outlinewidth\": 0, \"ticks\": \"\"}}, \"type\": \"scattercarpet\"}], \"scattergeo\": [{\"marker\": {\"colorbar\": {\"outlinewidth\": 0, \"ticks\": \"\"}}, \"type\": \"scattergeo\"}], \"scattergl\": [{\"marker\": {\"colorbar\": {\"outlinewidth\": 0, \"ticks\": \"\"}}, \"type\": \"scattergl\"}], \"scattermapbox\": [{\"marker\": {\"colorbar\": {\"outlinewidth\": 0, \"ticks\": \"\"}}, \"type\": \"scattermapbox\"}], \"scatterpolar\": [{\"marker\": {\"colorbar\": {\"outlinewidth\": 0, \"ticks\": \"\"}}, \"type\": \"scatterpolar\"}], \"scatterpolargl\": [{\"marker\": {\"colorbar\": {\"outlinewidth\": 0, \"ticks\": \"\"}}, \"type\": \"scatterpolargl\"}], \"scatterternary\": [{\"marker\": {\"colorbar\": {\"outlinewidth\": 0, \"ticks\": \"\"}}, \"type\": \"scatterternary\"}], \"surface\": [{\"colorbar\": {\"outlinewidth\": 0, \"ticks\": \"\"}, \"colorscale\": [[0.0, \"#0d0887\"], [0.1111111111111111, \"#46039f\"], [0.2222222222222222, \"#7201a8\"], [0.3333333333333333, \"#9c179e\"], [0.4444444444444444, \"#bd3786\"], [0.5555555555555556, \"#d8576b\"], [0.6666666666666666, \"#ed7953\"], [0.7777777777777778, \"#fb9f3a\"], [0.8888888888888888, \"#fdca26\"], [1.0, \"#f0f921\"]], \"type\": \"surface\"}], \"table\": [{\"cells\": {\"fill\": {\"color\": \"#EBF0F8\"}, \"line\": {\"color\": \"white\"}}, \"header\": {\"fill\": {\"color\": \"#C8D4E3\"}, \"line\": {\"color\": \"white\"}}, \"type\": \"table\"}]}, \"layout\": {\"annotationdefaults\": {\"arrowcolor\": \"#2a3f5f\", \"arrowhead\": 0, \"arrowwidth\": 1}, \"colorscale\": {\"diverging\": [[0, \"#8e0152\"], [0.1, \"#c51b7d\"], [0.2, \"#de77ae\"], [0.3, \"#f1b6da\"], [0.4, \"#fde0ef\"], [0.5, \"#f7f7f7\"], [0.6, \"#e6f5d0\"], [0.7, \"#b8e186\"], [0.8, \"#7fbc41\"], [0.9, \"#4d9221\"], [1, \"#276419\"]], \"sequential\": [[0.0, \"#0d0887\"], [0.1111111111111111, \"#46039f\"], [0.2222222222222222, \"#7201a8\"], [0.3333333333333333, \"#9c179e\"], [0.4444444444444444, \"#bd3786\"], [0.5555555555555556, \"#d8576b\"], [0.6666666666666666, \"#ed7953\"], [0.7777777777777778, \"#fb9f3a\"], [0.8888888888888888, \"#fdca26\"], [1.0, \"#f0f921\"]], \"sequentialminus\": [[0.0, \"#0d0887\"], [0.1111111111111111, \"#46039f\"], [0.2222222222222222, \"#7201a8\"], [0.3333333333333333, \"#9c179e\"], [0.4444444444444444, \"#bd3786\"], [0.5555555555555556, \"#d8576b\"], [0.6666666666666666, \"#ed7953\"], [0.7777777777777778, \"#fb9f3a\"], [0.8888888888888888, \"#fdca26\"], [1.0, \"#f0f921\"]]}, \"colorway\": [\"#636efa\", \"#EF553B\", \"#00cc96\", \"#ab63fa\", \"#FFA15A\", \"#19d3f3\", \"#FF6692\", \"#B6E880\", \"#FF97FF\", \"#FECB52\"], \"font\": {\"color\": \"#2a3f5f\"}, \"geo\": {\"bgcolor\": \"white\", \"lakecolor\": \"white\", \"landcolor\": \"#E5ECF6\", \"showlakes\": true, \"showland\": true, \"subunitcolor\": \"white\"}, \"hoverlabel\": {\"align\": \"left\"}, \"hovermode\": \"closest\", \"mapbox\": {\"style\": \"light\"}, \"paper_bgcolor\": \"white\", \"plot_bgcolor\": \"#E5ECF6\", \"polar\": {\"angularaxis\": {\"gridcolor\": \"white\", \"linecolor\": \"white\", \"ticks\": \"\"}, \"bgcolor\": \"#E5ECF6\", \"radialaxis\": {\"gridcolor\": \"white\", \"linecolor\": \"white\", \"ticks\": \"\"}}, \"scene\": {\"xaxis\": {\"backgroundcolor\": \"#E5ECF6\", \"gridcolor\": \"white\", \"gridwidth\": 2, \"linecolor\": \"white\", \"showbackground\": true, \"ticks\": \"\", \"zerolinecolor\": \"white\"}, \"yaxis\": {\"backgroundcolor\": \"#E5ECF6\", \"gridcolor\": \"white\", \"gridwidth\": 2, \"linecolor\": \"white\", \"showbackground\": true, \"ticks\": \"\", \"zerolinecolor\": \"white\"}, \"zaxis\": {\"backgroundcolor\": \"#E5ECF6\", \"gridcolor\": \"white\", \"gridwidth\": 2, \"linecolor\": \"white\", \"showbackground\": true, \"ticks\": \"\", \"zerolinecolor\": \"white\"}}, \"shapedefaults\": {\"line\": {\"color\": \"#2a3f5f\"}}, \"ternary\": {\"aaxis\": {\"gridcolor\": \"white\", \"linecolor\": \"white\", \"ticks\": \"\"}, \"baxis\": {\"gridcolor\": \"white\", \"linecolor\": \"white\", \"ticks\": \"\"}, \"bgcolor\": \"#E5ECF6\", \"caxis\": {\"gridcolor\": \"white\", \"linecolor\": \"white\", \"ticks\": \"\"}}, \"title\": {\"x\": 0.05}, \"xaxis\": {\"automargin\": true, \"gridcolor\": \"white\", \"linecolor\": \"white\", \"ticks\": \"\", \"zerolinecolor\": \"white\", \"zerolinewidth\": 2}, \"yaxis\": {\"automargin\": true, \"gridcolor\": \"white\", \"linecolor\": \"white\", \"ticks\": \"\", \"zerolinecolor\": \"white\", \"zerolinewidth\": 2}}}, \"title\": {\"text\": \"Evaluating Models\"}},\n",
       "                        {\"responsive\": true}\n",
       "                    ).then(function(){\n",
       "                            \n",
       "var gd = document.getElementById('3f8e19ee-9e2c-4ef0-9959-1462db43d314');\n",
       "var x = new MutationObserver(function (mutations, observer) {{\n",
       "        var display = window.getComputedStyle(gd).display;\n",
       "        if (!display || display === 'none') {{\n",
       "            console.log([gd, 'removed!']);\n",
       "            Plotly.purge(gd);\n",
       "            observer.disconnect();\n",
       "        }}\n",
       "}});\n",
       "\n",
       "// Listen for the removal of the full notebook cells\n",
       "var notebookContainer = gd.closest('#notebook-container');\n",
       "if (notebookContainer) {{\n",
       "    x.observe(notebookContainer, {childList: true});\n",
       "}}\n",
       "\n",
       "// Listen for the clearing of the current output cell\n",
       "var outputEl = gd.closest('.output');\n",
       "if (outputEl) {{\n",
       "    x.observe(outputEl, {childList: true});\n",
       "}}\n",
       "\n",
       "                        }).then(function(){\n",
       "                            function downloadimage(format, height, width, filename) {var p = document.getElementById('3f8e19ee-9e2c-4ef0-9959-1462db43d314');Plotly.downloadImage(p, {format: format, height: height, width: width, filename: filename});};if(document.readyState == 'complete') {downloadimage('png', 750, 750, 'polar/directions');}\n",
       "                        })\n",
       "                };\n",
       "                });\n",
       "            </script>\n",
       "        </div>"
      ]
     },
     "metadata": {},
     "output_type": "display_data"
    }
   ],
   "source": [
    "data = [\n",
    "    go.Scatterpolar(\n",
    "        mode='lines+markers',\n",
    "      r = [acc,prec,ret],\n",
    "      theta = ['XGB Acc.','XGB Prec.','XGB Ret.'],\n",
    "      fill = 'toself',\n",
    "      name = '',\n",
    "        line = dict(\n",
    "        color = \"#63AF63\"\n",
    "      ),\n",
    "      marker = dict(\n",
    "        color = \"#B3FFB3\",\n",
    "        symbol = \"square\",\n",
    "        size = 12\n",
    "      ),\n",
    "      subplot = \"polar\",\n",
    "    ),\n",
    "        go.Scatterpolar(\n",
    "        mode='lines+markers',\n",
    "      r = [log_acc,log_prec,log_ret],\n",
    "      theta = ['LogReg Acc.','LogReg Prec.','LogReg Ret.'],\n",
    "      fill = 'toself',\n",
    "      name = '',\n",
    "        line = dict(\n",
    "        color = \"#63AF63\"\n",
    "      ),\n",
    "      marker = dict(\n",
    "        color = \"#B3FFB3\",\n",
    "        symbol = \"square\",\n",
    "        size = 12\n",
    "      ),\n",
    "      subplot = \"polar3\",\n",
    "    ),\n",
    "        go.Scatterpolar(\n",
    "        mode='lines+markers',\n",
    "      r = [rfc_acc,rfc_prec,rfc_ret],\n",
    "      theta = ['RFC Acc.','RFC Prec.','RFC Ret.'],\n",
    "      fill = 'toself',\n",
    "      name = '',\n",
    "        line = dict(\n",
    "        color = \"#63AF63\"\n",
    "      ),\n",
    "      marker = dict(\n",
    "        color = \"#B3FFB3\",\n",
    "        symbol = \"square\",\n",
    "        size = 12\n",
    "      ),\n",
    "      subplot = \"polar2\",\n",
    "    ),\n",
    "    go.Scatterpolar(\n",
    "        mode='lines+markers',\n",
    "      r = [gbc_acc,gbc_prec,gbc_ret],\n",
    "      theta = ['GBC Acc.','GBC Prec.','GBC Ret.'],\n",
    "      fill = 'toself',\n",
    "      name = '',\n",
    "        line = dict(\n",
    "        color = \"#63AF63\"\n",
    "      ),\n",
    "      marker = dict(\n",
    "        color = \"#B3FFB3\",\n",
    "        symbol = \"square\",\n",
    "        size = 12\n",
    "      ),\n",
    "      subplot = \"polar4\",\n",
    "    )\n",
    "]\n",
    "\n",
    "layout = go.Layout(\n",
    "    title=\"Evaluating Models\",\n",
    "    showlegend = False,\n",
    "     paper_bgcolor = \"rgb(255, 248, 243)\",\n",
    "    polar = dict(\n",
    "      domain = dict(\n",
    "        x = [0.6,1.0],\n",
    "        y = [0.0,0.4]\n",
    "      ),\n",
    "      radialaxis = dict(\n",
    "        tickfont = dict(\n",
    "          size = 8\n",
    "        )\n",
    "      ),\n",
    "      angularaxis = dict(\n",
    "        tickfont = dict(\n",
    "          size = 12\n",
    "        ),\n",
    "        rotation = 90,\n",
    "        direction = \"counterclockwise\"\n",
    "      )\n",
    "    ),\n",
    "    polar2 = dict(\n",
    "      domain = dict(\n",
    "        x = [0.6,1],\n",
    "        y = [0.6,1]\n",
    "      ),\n",
    "      radialaxis = dict(\n",
    "        tickfont = dict(\n",
    "          size = 8\n",
    "        )\n",
    "      ),\n",
    "      angularaxis = dict(\n",
    "        tickfont = dict(\n",
    "          size = 12\n",
    "        ),\n",
    "        rotation = 90,\n",
    "        direction = \"counterclockwise\"\n",
    "      ),\n",
    "    ),\n",
    "    polar3 = dict(\n",
    "      domain = dict(\n",
    "        x = [0.0,0.4],\n",
    "        y = [0.6,1.0]\n",
    "      ),\n",
    "      radialaxis = dict(\n",
    "        tickfont = dict(\n",
    "          size = 8\n",
    "        )\n",
    "      ),\n",
    "      angularaxis = dict(\n",
    "        tickfont = dict(\n",
    "          size = 12\n",
    "        ),\n",
    "        rotation = 90,\n",
    "        direction = \"counterclockwise\"\n",
    "      )\n",
    "    ),\n",
    "    polar4 = dict(\n",
    "      domain = dict(\n",
    "        x = [0.0,0.4],\n",
    "        y = [0.0,0.4]\n",
    "      ),\n",
    "      radialaxis = dict(\n",
    "        tickfont = dict(\n",
    "          size = 8\n",
    "            \n",
    "        )\n",
    "      ),\n",
    "      angularaxis = dict(\n",
    "        tickfont = dict(\n",
    "          size = 12\n",
    "        ),\n",
    "        rotation = 90,\n",
    "        direction = \"counterclockwise\"\n",
    "      )\n",
    "    )\n",
    "\n",
    ")\n",
    "\n",
    "fig = go.Figure(data=data, layout=layout)\n",
    "plotly.offline.plot(fig,filename='default_ml_models',auto_open=False)\n",
    "iplot(fig, filename='polar/directions',image_width=750,image_height=750,image='png')"
   ]
  },
  {
   "cell_type": "code",
   "execution_count": 617,
   "metadata": {},
   "outputs": [
    {
     "name": "stdout",
     "output_type": "stream",
     "text": [
      "Logistic Regression\n",
      "[[28039  2965]\n",
      " [86673 39330]]\n",
      "\n",
      "\n",
      "accuracy: 0.42908277974867365\n",
      "precision: 0.9298971509634708\n",
      "Return: 6.6\n",
      "\n",
      "\n",
      "Random Forest\n",
      "[[27432  3572]\n",
      " [88439 37564]]\n",
      "\n",
      "\n",
      "accuracy: 0.4139688039386779\n",
      "precision: 0.9131660832360949\n",
      "Return: 6.7\n",
      "\n",
      "\n",
      "Gradient Boosting\n",
      "[[28199  2805]\n",
      " [86548 39455]]\n",
      "\n",
      "\n",
      "accuracy: 0.43089798544013963\n",
      "precision: 0.9336251774727875\n",
      "Return: 6.4\n",
      "\n",
      "\n",
      "XGradient Boosting\n",
      "[[28216  2788]\n",
      " [86762 39241]]\n",
      "\n",
      "\n",
      "accuracy: 0.4296432643130561\n",
      "precision: 0.9336648504603964\n",
      "Return: 6.5\n"
     ]
    },
    {
     "name": "stderr",
     "output_type": "stream",
     "text": [
      "/anaconda3/lib/python3.7/site-packages/plotly/offline/offline.py:562: UserWarning:\n",
      "\n",
      "Your filename `default_ml_models` didn't end with .html. Adding .html to the end of your file.\n",
      "\n"
     ]
    },
    {
     "data": {
      "application/vnd.plotly.v1+json": {
       "config": {
        "linkText": "Export to plot.ly",
        "plotlyServerURL": "https://plot.ly",
        "showLink": false
       },
       "data": [
        {
         "fill": "toself",
         "line": {
          "color": "#63AF63"
         },
         "marker": {
          "color": "#B3FFB3",
          "size": 12,
          "symbol": "square"
         },
         "mode": "lines+markers",
         "name": "",
         "r": [
          0.43,
          0.93,
          1.065
         ],
         "subplot": "polar",
         "theta": [
          "XGB Acc.",
          "XGB Prec.",
          "XGB Ret."
         ],
         "type": "scatterpolar"
        },
        {
         "fill": "toself",
         "line": {
          "color": "#63AF63"
         },
         "marker": {
          "color": "#B3FFB3",
          "size": 12,
          "symbol": "square"
         },
         "mode": "lines+markers",
         "name": "",
         "r": [
          0.43,
          0.93,
          1.066
         ],
         "subplot": "polar3",
         "theta": [
          "LogReg Acc.",
          "LogReg Prec.",
          "LogReg Ret."
         ],
         "type": "scatterpolar"
        },
        {
         "fill": "toself",
         "line": {
          "color": "#63AF63"
         },
         "marker": {
          "color": "#B3FFB3",
          "size": 12,
          "symbol": "square"
         },
         "mode": "lines+markers",
         "name": "",
         "r": [
          0.41,
          0.91,
          1.067
         ],
         "subplot": "polar2",
         "theta": [
          "RFC Acc.",
          "RFC Prec.",
          "RFC Ret."
         ],
         "type": "scatterpolar"
        },
        {
         "fill": "toself",
         "line": {
          "color": "#63AF63"
         },
         "marker": {
          "color": "#B3FFB3",
          "size": 12,
          "symbol": "square"
         },
         "mode": "lines+markers",
         "name": "",
         "r": [
          0.43,
          0.93,
          1.064
         ],
         "subplot": "polar4",
         "theta": [
          "GBC Acc.",
          "GBC Prec.",
          "GBC Ret."
         ],
         "type": "scatterpolar"
        }
       ],
       "layout": {
        "paper_bgcolor": "rgb(255, 248, 243)",
        "polar": {
         "angularaxis": {
          "direction": "counterclockwise",
          "rotation": 90,
          "tickfont": {
           "size": 12
          }
         },
         "domain": {
          "x": [
           0.6,
           1
          ],
          "y": [
           0,
           0.4
          ]
         },
         "radialaxis": {
          "tickfont": {
           "size": 8
          }
         }
        },
        "polar2": {
         "angularaxis": {
          "direction": "counterclockwise",
          "rotation": 90,
          "tickfont": {
           "size": 12
          }
         },
         "domain": {
          "x": [
           0.6,
           1
          ],
          "y": [
           0.6,
           1
          ]
         },
         "radialaxis": {
          "tickfont": {
           "size": 8
          }
         }
        },
        "polar3": {
         "angularaxis": {
          "direction": "counterclockwise",
          "rotation": 90,
          "tickfont": {
           "size": 12
          }
         },
         "domain": {
          "x": [
           0,
           0.4
          ],
          "y": [
           0.6,
           1
          ]
         },
         "radialaxis": {
          "tickfont": {
           "size": 8
          }
         }
        },
        "polar4": {
         "angularaxis": {
          "direction": "counterclockwise",
          "rotation": 90,
          "tickfont": {
           "size": 12
          }
         },
         "domain": {
          "x": [
           0,
           0.4
          ],
          "y": [
           0,
           0.4
          ]
         },
         "radialaxis": {
          "tickfont": {
           "size": 8
          }
         }
        },
        "showlegend": false,
        "template": {
         "data": {
          "bar": [
           {
            "error_x": {
             "color": "#2a3f5f"
            },
            "error_y": {
             "color": "#2a3f5f"
            },
            "marker": {
             "line": {
              "color": "#E5ECF6",
              "width": 0.5
             }
            },
            "type": "bar"
           }
          ],
          "barpolar": [
           {
            "marker": {
             "line": {
              "color": "#E5ECF6",
              "width": 0.5
             }
            },
            "type": "barpolar"
           }
          ],
          "carpet": [
           {
            "aaxis": {
             "endlinecolor": "#2a3f5f",
             "gridcolor": "white",
             "linecolor": "white",
             "minorgridcolor": "white",
             "startlinecolor": "#2a3f5f"
            },
            "baxis": {
             "endlinecolor": "#2a3f5f",
             "gridcolor": "white",
             "linecolor": "white",
             "minorgridcolor": "white",
             "startlinecolor": "#2a3f5f"
            },
            "type": "carpet"
           }
          ],
          "choropleth": [
           {
            "colorbar": {
             "outlinewidth": 0,
             "ticks": ""
            },
            "type": "choropleth"
           }
          ],
          "contour": [
           {
            "colorbar": {
             "outlinewidth": 0,
             "ticks": ""
            },
            "colorscale": [
             [
              0,
              "#0d0887"
             ],
             [
              0.1111111111111111,
              "#46039f"
             ],
             [
              0.2222222222222222,
              "#7201a8"
             ],
             [
              0.3333333333333333,
              "#9c179e"
             ],
             [
              0.4444444444444444,
              "#bd3786"
             ],
             [
              0.5555555555555556,
              "#d8576b"
             ],
             [
              0.6666666666666666,
              "#ed7953"
             ],
             [
              0.7777777777777778,
              "#fb9f3a"
             ],
             [
              0.8888888888888888,
              "#fdca26"
             ],
             [
              1,
              "#f0f921"
             ]
            ],
            "type": "contour"
           }
          ],
          "contourcarpet": [
           {
            "colorbar": {
             "outlinewidth": 0,
             "ticks": ""
            },
            "type": "contourcarpet"
           }
          ],
          "heatmap": [
           {
            "colorbar": {
             "outlinewidth": 0,
             "ticks": ""
            },
            "colorscale": [
             [
              0,
              "#0d0887"
             ],
             [
              0.1111111111111111,
              "#46039f"
             ],
             [
              0.2222222222222222,
              "#7201a8"
             ],
             [
              0.3333333333333333,
              "#9c179e"
             ],
             [
              0.4444444444444444,
              "#bd3786"
             ],
             [
              0.5555555555555556,
              "#d8576b"
             ],
             [
              0.6666666666666666,
              "#ed7953"
             ],
             [
              0.7777777777777778,
              "#fb9f3a"
             ],
             [
              0.8888888888888888,
              "#fdca26"
             ],
             [
              1,
              "#f0f921"
             ]
            ],
            "type": "heatmap"
           }
          ],
          "heatmapgl": [
           {
            "colorbar": {
             "outlinewidth": 0,
             "ticks": ""
            },
            "colorscale": [
             [
              0,
              "#0d0887"
             ],
             [
              0.1111111111111111,
              "#46039f"
             ],
             [
              0.2222222222222222,
              "#7201a8"
             ],
             [
              0.3333333333333333,
              "#9c179e"
             ],
             [
              0.4444444444444444,
              "#bd3786"
             ],
             [
              0.5555555555555556,
              "#d8576b"
             ],
             [
              0.6666666666666666,
              "#ed7953"
             ],
             [
              0.7777777777777778,
              "#fb9f3a"
             ],
             [
              0.8888888888888888,
              "#fdca26"
             ],
             [
              1,
              "#f0f921"
             ]
            ],
            "type": "heatmapgl"
           }
          ],
          "histogram": [
           {
            "marker": {
             "colorbar": {
              "outlinewidth": 0,
              "ticks": ""
             }
            },
            "type": "histogram"
           }
          ],
          "histogram2d": [
           {
            "colorbar": {
             "outlinewidth": 0,
             "ticks": ""
            },
            "colorscale": [
             [
              0,
              "#0d0887"
             ],
             [
              0.1111111111111111,
              "#46039f"
             ],
             [
              0.2222222222222222,
              "#7201a8"
             ],
             [
              0.3333333333333333,
              "#9c179e"
             ],
             [
              0.4444444444444444,
              "#bd3786"
             ],
             [
              0.5555555555555556,
              "#d8576b"
             ],
             [
              0.6666666666666666,
              "#ed7953"
             ],
             [
              0.7777777777777778,
              "#fb9f3a"
             ],
             [
              0.8888888888888888,
              "#fdca26"
             ],
             [
              1,
              "#f0f921"
             ]
            ],
            "type": "histogram2d"
           }
          ],
          "histogram2dcontour": [
           {
            "colorbar": {
             "outlinewidth": 0,
             "ticks": ""
            },
            "colorscale": [
             [
              0,
              "#0d0887"
             ],
             [
              0.1111111111111111,
              "#46039f"
             ],
             [
              0.2222222222222222,
              "#7201a8"
             ],
             [
              0.3333333333333333,
              "#9c179e"
             ],
             [
              0.4444444444444444,
              "#bd3786"
             ],
             [
              0.5555555555555556,
              "#d8576b"
             ],
             [
              0.6666666666666666,
              "#ed7953"
             ],
             [
              0.7777777777777778,
              "#fb9f3a"
             ],
             [
              0.8888888888888888,
              "#fdca26"
             ],
             [
              1,
              "#f0f921"
             ]
            ],
            "type": "histogram2dcontour"
           }
          ],
          "mesh3d": [
           {
            "colorbar": {
             "outlinewidth": 0,
             "ticks": ""
            },
            "type": "mesh3d"
           }
          ],
          "parcoords": [
           {
            "line": {
             "colorbar": {
              "outlinewidth": 0,
              "ticks": ""
             }
            },
            "type": "parcoords"
           }
          ],
          "scatter": [
           {
            "marker": {
             "colorbar": {
              "outlinewidth": 0,
              "ticks": ""
             }
            },
            "type": "scatter"
           }
          ],
          "scatter3d": [
           {
            "line": {
             "colorbar": {
              "outlinewidth": 0,
              "ticks": ""
             }
            },
            "marker": {
             "colorbar": {
              "outlinewidth": 0,
              "ticks": ""
             }
            },
            "type": "scatter3d"
           }
          ],
          "scattercarpet": [
           {
            "marker": {
             "colorbar": {
              "outlinewidth": 0,
              "ticks": ""
             }
            },
            "type": "scattercarpet"
           }
          ],
          "scattergeo": [
           {
            "marker": {
             "colorbar": {
              "outlinewidth": 0,
              "ticks": ""
             }
            },
            "type": "scattergeo"
           }
          ],
          "scattergl": [
           {
            "marker": {
             "colorbar": {
              "outlinewidth": 0,
              "ticks": ""
             }
            },
            "type": "scattergl"
           }
          ],
          "scattermapbox": [
           {
            "marker": {
             "colorbar": {
              "outlinewidth": 0,
              "ticks": ""
             }
            },
            "type": "scattermapbox"
           }
          ],
          "scatterpolar": [
           {
            "marker": {
             "colorbar": {
              "outlinewidth": 0,
              "ticks": ""
             }
            },
            "type": "scatterpolar"
           }
          ],
          "scatterpolargl": [
           {
            "marker": {
             "colorbar": {
              "outlinewidth": 0,
              "ticks": ""
             }
            },
            "type": "scatterpolargl"
           }
          ],
          "scatterternary": [
           {
            "marker": {
             "colorbar": {
              "outlinewidth": 0,
              "ticks": ""
             }
            },
            "type": "scatterternary"
           }
          ],
          "surface": [
           {
            "colorbar": {
             "outlinewidth": 0,
             "ticks": ""
            },
            "colorscale": [
             [
              0,
              "#0d0887"
             ],
             [
              0.1111111111111111,
              "#46039f"
             ],
             [
              0.2222222222222222,
              "#7201a8"
             ],
             [
              0.3333333333333333,
              "#9c179e"
             ],
             [
              0.4444444444444444,
              "#bd3786"
             ],
             [
              0.5555555555555556,
              "#d8576b"
             ],
             [
              0.6666666666666666,
              "#ed7953"
             ],
             [
              0.7777777777777778,
              "#fb9f3a"
             ],
             [
              0.8888888888888888,
              "#fdca26"
             ],
             [
              1,
              "#f0f921"
             ]
            ],
            "type": "surface"
           }
          ],
          "table": [
           {
            "cells": {
             "fill": {
              "color": "#EBF0F8"
             },
             "line": {
              "color": "white"
             }
            },
            "header": {
             "fill": {
              "color": "#C8D4E3"
             },
             "line": {
              "color": "white"
             }
            },
            "type": "table"
           }
          ]
         },
         "layout": {
          "annotationdefaults": {
           "arrowcolor": "#2a3f5f",
           "arrowhead": 0,
           "arrowwidth": 1
          },
          "colorscale": {
           "diverging": [
            [
             0,
             "#8e0152"
            ],
            [
             0.1,
             "#c51b7d"
            ],
            [
             0.2,
             "#de77ae"
            ],
            [
             0.3,
             "#f1b6da"
            ],
            [
             0.4,
             "#fde0ef"
            ],
            [
             0.5,
             "#f7f7f7"
            ],
            [
             0.6,
             "#e6f5d0"
            ],
            [
             0.7,
             "#b8e186"
            ],
            [
             0.8,
             "#7fbc41"
            ],
            [
             0.9,
             "#4d9221"
            ],
            [
             1,
             "#276419"
            ]
           ],
           "sequential": [
            [
             0,
             "#0d0887"
            ],
            [
             0.1111111111111111,
             "#46039f"
            ],
            [
             0.2222222222222222,
             "#7201a8"
            ],
            [
             0.3333333333333333,
             "#9c179e"
            ],
            [
             0.4444444444444444,
             "#bd3786"
            ],
            [
             0.5555555555555556,
             "#d8576b"
            ],
            [
             0.6666666666666666,
             "#ed7953"
            ],
            [
             0.7777777777777778,
             "#fb9f3a"
            ],
            [
             0.8888888888888888,
             "#fdca26"
            ],
            [
             1,
             "#f0f921"
            ]
           ],
           "sequentialminus": [
            [
             0,
             "#0d0887"
            ],
            [
             0.1111111111111111,
             "#46039f"
            ],
            [
             0.2222222222222222,
             "#7201a8"
            ],
            [
             0.3333333333333333,
             "#9c179e"
            ],
            [
             0.4444444444444444,
             "#bd3786"
            ],
            [
             0.5555555555555556,
             "#d8576b"
            ],
            [
             0.6666666666666666,
             "#ed7953"
            ],
            [
             0.7777777777777778,
             "#fb9f3a"
            ],
            [
             0.8888888888888888,
             "#fdca26"
            ],
            [
             1,
             "#f0f921"
            ]
           ]
          },
          "colorway": [
           "#636efa",
           "#EF553B",
           "#00cc96",
           "#ab63fa",
           "#FFA15A",
           "#19d3f3",
           "#FF6692",
           "#B6E880",
           "#FF97FF",
           "#FECB52"
          ],
          "font": {
           "color": "#2a3f5f"
          },
          "geo": {
           "bgcolor": "white",
           "lakecolor": "white",
           "landcolor": "#E5ECF6",
           "showlakes": true,
           "showland": true,
           "subunitcolor": "white"
          },
          "hoverlabel": {
           "align": "left"
          },
          "hovermode": "closest",
          "mapbox": {
           "style": "light"
          },
          "paper_bgcolor": "white",
          "plot_bgcolor": "#E5ECF6",
          "polar": {
           "angularaxis": {
            "gridcolor": "white",
            "linecolor": "white",
            "ticks": ""
           },
           "bgcolor": "#E5ECF6",
           "radialaxis": {
            "gridcolor": "white",
            "linecolor": "white",
            "ticks": ""
           }
          },
          "scene": {
           "xaxis": {
            "backgroundcolor": "#E5ECF6",
            "gridcolor": "white",
            "gridwidth": 2,
            "linecolor": "white",
            "showbackground": true,
            "ticks": "",
            "zerolinecolor": "white"
           },
           "yaxis": {
            "backgroundcolor": "#E5ECF6",
            "gridcolor": "white",
            "gridwidth": 2,
            "linecolor": "white",
            "showbackground": true,
            "ticks": "",
            "zerolinecolor": "white"
           },
           "zaxis": {
            "backgroundcolor": "#E5ECF6",
            "gridcolor": "white",
            "gridwidth": 2,
            "linecolor": "white",
            "showbackground": true,
            "ticks": "",
            "zerolinecolor": "white"
           }
          },
          "shapedefaults": {
           "line": {
            "color": "#2a3f5f"
           }
          },
          "ternary": {
           "aaxis": {
            "gridcolor": "white",
            "linecolor": "white",
            "ticks": ""
           },
           "baxis": {
            "gridcolor": "white",
            "linecolor": "white",
            "ticks": ""
           },
           "bgcolor": "#E5ECF6",
           "caxis": {
            "gridcolor": "white",
            "linecolor": "white",
            "ticks": ""
           }
          },
          "title": {
           "x": 0.05
          },
          "xaxis": {
           "automargin": true,
           "gridcolor": "white",
           "linecolor": "white",
           "ticks": "",
           "zerolinecolor": "white",
           "zerolinewidth": 2
          },
          "yaxis": {
           "automargin": true,
           "gridcolor": "white",
           "linecolor": "white",
           "ticks": "",
           "zerolinecolor": "white",
           "zerolinewidth": 2
          }
         }
        },
        "title": {
         "text": "Default Sklearn Model Performance"
        }
       }
      },
      "text/html": [
       "<div>\n",
       "        \n",
       "        \n",
       "            <div id=\"750ae6ae-ae5f-4a82-9478-bab1547f9238\" class=\"plotly-graph-div\" style=\"height:525px; width:100%;\"></div>\n",
       "            <script type=\"text/javascript\">\n",
       "                require([\"plotly\"], function(Plotly) {\n",
       "                    window.PLOTLYENV=window.PLOTLYENV || {};\n",
       "                    \n",
       "                if (document.getElementById(\"750ae6ae-ae5f-4a82-9478-bab1547f9238\")) {\n",
       "                    Plotly.newPlot(\n",
       "                        '750ae6ae-ae5f-4a82-9478-bab1547f9238',\n",
       "                        [{\"fill\": \"toself\", \"line\": {\"color\": \"#63AF63\"}, \"marker\": {\"color\": \"#B3FFB3\", \"size\": 12, \"symbol\": \"square\"}, \"mode\": \"lines+markers\", \"name\": \"\", \"r\": [0.43, 0.93, 1.065], \"subplot\": \"polar\", \"theta\": [\"XGB Acc.\", \"XGB Prec.\", \"XGB Ret.\"], \"type\": \"scatterpolar\"}, {\"fill\": \"toself\", \"line\": {\"color\": \"#63AF63\"}, \"marker\": {\"color\": \"#B3FFB3\", \"size\": 12, \"symbol\": \"square\"}, \"mode\": \"lines+markers\", \"name\": \"\", \"r\": [0.43, 0.93, 1.066], \"subplot\": \"polar3\", \"theta\": [\"LogReg Acc.\", \"LogReg Prec.\", \"LogReg Ret.\"], \"type\": \"scatterpolar\"}, {\"fill\": \"toself\", \"line\": {\"color\": \"#63AF63\"}, \"marker\": {\"color\": \"#B3FFB3\", \"size\": 12, \"symbol\": \"square\"}, \"mode\": \"lines+markers\", \"name\": \"\", \"r\": [0.41, 0.91, 1.067], \"subplot\": \"polar2\", \"theta\": [\"RFC Acc.\", \"RFC Prec.\", \"RFC Ret.\"], \"type\": \"scatterpolar\"}, {\"fill\": \"toself\", \"line\": {\"color\": \"#63AF63\"}, \"marker\": {\"color\": \"#B3FFB3\", \"size\": 12, \"symbol\": \"square\"}, \"mode\": \"lines+markers\", \"name\": \"\", \"r\": [0.43, 0.93, 1.064], \"subplot\": \"polar4\", \"theta\": [\"GBC Acc.\", \"GBC Prec.\", \"GBC Ret.\"], \"type\": \"scatterpolar\"}],\n",
       "                        {\"paper_bgcolor\": \"rgb(255, 248, 243)\", \"polar\": {\"angularaxis\": {\"direction\": \"counterclockwise\", \"rotation\": 90, \"tickfont\": {\"size\": 12}}, \"domain\": {\"x\": [0.6, 1.0], \"y\": [0.0, 0.4]}, \"radialaxis\": {\"tickfont\": {\"size\": 8}}}, \"polar2\": {\"angularaxis\": {\"direction\": \"counterclockwise\", \"rotation\": 90, \"tickfont\": {\"size\": 12}}, \"domain\": {\"x\": [0.6, 1], \"y\": [0.6, 1]}, \"radialaxis\": {\"tickfont\": {\"size\": 8}}}, \"polar3\": {\"angularaxis\": {\"direction\": \"counterclockwise\", \"rotation\": 90, \"tickfont\": {\"size\": 12}}, \"domain\": {\"x\": [0.0, 0.4], \"y\": [0.6, 1.0]}, \"radialaxis\": {\"tickfont\": {\"size\": 8}}}, \"polar4\": {\"angularaxis\": {\"direction\": \"counterclockwise\", \"rotation\": 90, \"tickfont\": {\"size\": 12}}, \"domain\": {\"x\": [0.0, 0.4], \"y\": [0.0, 0.4]}, \"radialaxis\": {\"tickfont\": {\"size\": 8}}}, \"showlegend\": false, \"template\": {\"data\": {\"bar\": [{\"error_x\": {\"color\": \"#2a3f5f\"}, \"error_y\": {\"color\": \"#2a3f5f\"}, \"marker\": {\"line\": {\"color\": \"#E5ECF6\", \"width\": 0.5}}, \"type\": \"bar\"}], \"barpolar\": [{\"marker\": {\"line\": {\"color\": \"#E5ECF6\", \"width\": 0.5}}, \"type\": \"barpolar\"}], \"carpet\": [{\"aaxis\": {\"endlinecolor\": \"#2a3f5f\", \"gridcolor\": \"white\", \"linecolor\": \"white\", \"minorgridcolor\": \"white\", \"startlinecolor\": \"#2a3f5f\"}, \"baxis\": {\"endlinecolor\": \"#2a3f5f\", \"gridcolor\": \"white\", \"linecolor\": \"white\", \"minorgridcolor\": \"white\", \"startlinecolor\": \"#2a3f5f\"}, \"type\": \"carpet\"}], \"choropleth\": [{\"colorbar\": {\"outlinewidth\": 0, \"ticks\": \"\"}, \"type\": \"choropleth\"}], \"contour\": [{\"colorbar\": {\"outlinewidth\": 0, \"ticks\": \"\"}, \"colorscale\": [[0.0, \"#0d0887\"], [0.1111111111111111, \"#46039f\"], [0.2222222222222222, \"#7201a8\"], [0.3333333333333333, \"#9c179e\"], [0.4444444444444444, \"#bd3786\"], [0.5555555555555556, \"#d8576b\"], [0.6666666666666666, \"#ed7953\"], [0.7777777777777778, \"#fb9f3a\"], [0.8888888888888888, \"#fdca26\"], [1.0, \"#f0f921\"]], \"type\": \"contour\"}], \"contourcarpet\": [{\"colorbar\": {\"outlinewidth\": 0, \"ticks\": \"\"}, \"type\": \"contourcarpet\"}], \"heatmap\": [{\"colorbar\": {\"outlinewidth\": 0, \"ticks\": \"\"}, \"colorscale\": [[0.0, \"#0d0887\"], [0.1111111111111111, \"#46039f\"], [0.2222222222222222, \"#7201a8\"], [0.3333333333333333, \"#9c179e\"], [0.4444444444444444, \"#bd3786\"], [0.5555555555555556, \"#d8576b\"], [0.6666666666666666, \"#ed7953\"], [0.7777777777777778, \"#fb9f3a\"], [0.8888888888888888, \"#fdca26\"], [1.0, \"#f0f921\"]], \"type\": \"heatmap\"}], \"heatmapgl\": [{\"colorbar\": {\"outlinewidth\": 0, \"ticks\": \"\"}, \"colorscale\": [[0.0, \"#0d0887\"], [0.1111111111111111, \"#46039f\"], [0.2222222222222222, \"#7201a8\"], [0.3333333333333333, \"#9c179e\"], [0.4444444444444444, \"#bd3786\"], [0.5555555555555556, \"#d8576b\"], [0.6666666666666666, \"#ed7953\"], [0.7777777777777778, \"#fb9f3a\"], [0.8888888888888888, \"#fdca26\"], [1.0, \"#f0f921\"]], \"type\": \"heatmapgl\"}], \"histogram\": [{\"marker\": {\"colorbar\": {\"outlinewidth\": 0, \"ticks\": \"\"}}, \"type\": \"histogram\"}], \"histogram2d\": [{\"colorbar\": {\"outlinewidth\": 0, \"ticks\": \"\"}, \"colorscale\": [[0.0, \"#0d0887\"], [0.1111111111111111, \"#46039f\"], [0.2222222222222222, \"#7201a8\"], [0.3333333333333333, \"#9c179e\"], [0.4444444444444444, \"#bd3786\"], [0.5555555555555556, \"#d8576b\"], [0.6666666666666666, \"#ed7953\"], [0.7777777777777778, \"#fb9f3a\"], [0.8888888888888888, \"#fdca26\"], [1.0, \"#f0f921\"]], \"type\": \"histogram2d\"}], \"histogram2dcontour\": [{\"colorbar\": {\"outlinewidth\": 0, \"ticks\": \"\"}, \"colorscale\": [[0.0, \"#0d0887\"], [0.1111111111111111, \"#46039f\"], [0.2222222222222222, \"#7201a8\"], [0.3333333333333333, \"#9c179e\"], [0.4444444444444444, \"#bd3786\"], [0.5555555555555556, \"#d8576b\"], [0.6666666666666666, \"#ed7953\"], [0.7777777777777778, \"#fb9f3a\"], [0.8888888888888888, \"#fdca26\"], [1.0, \"#f0f921\"]], \"type\": \"histogram2dcontour\"}], \"mesh3d\": [{\"colorbar\": {\"outlinewidth\": 0, \"ticks\": \"\"}, \"type\": \"mesh3d\"}], \"parcoords\": [{\"line\": {\"colorbar\": {\"outlinewidth\": 0, \"ticks\": \"\"}}, \"type\": \"parcoords\"}], \"scatter\": [{\"marker\": {\"colorbar\": {\"outlinewidth\": 0, \"ticks\": \"\"}}, \"type\": \"scatter\"}], \"scatter3d\": [{\"line\": {\"colorbar\": {\"outlinewidth\": 0, \"ticks\": \"\"}}, \"marker\": {\"colorbar\": {\"outlinewidth\": 0, \"ticks\": \"\"}}, \"type\": \"scatter3d\"}], \"scattercarpet\": [{\"marker\": {\"colorbar\": {\"outlinewidth\": 0, \"ticks\": \"\"}}, \"type\": \"scattercarpet\"}], \"scattergeo\": [{\"marker\": {\"colorbar\": {\"outlinewidth\": 0, \"ticks\": \"\"}}, \"type\": \"scattergeo\"}], \"scattergl\": [{\"marker\": {\"colorbar\": {\"outlinewidth\": 0, \"ticks\": \"\"}}, \"type\": \"scattergl\"}], \"scattermapbox\": [{\"marker\": {\"colorbar\": {\"outlinewidth\": 0, \"ticks\": \"\"}}, \"type\": \"scattermapbox\"}], \"scatterpolar\": [{\"marker\": {\"colorbar\": {\"outlinewidth\": 0, \"ticks\": \"\"}}, \"type\": \"scatterpolar\"}], \"scatterpolargl\": [{\"marker\": {\"colorbar\": {\"outlinewidth\": 0, \"ticks\": \"\"}}, \"type\": \"scatterpolargl\"}], \"scatterternary\": [{\"marker\": {\"colorbar\": {\"outlinewidth\": 0, \"ticks\": \"\"}}, \"type\": \"scatterternary\"}], \"surface\": [{\"colorbar\": {\"outlinewidth\": 0, \"ticks\": \"\"}, \"colorscale\": [[0.0, \"#0d0887\"], [0.1111111111111111, \"#46039f\"], [0.2222222222222222, \"#7201a8\"], [0.3333333333333333, \"#9c179e\"], [0.4444444444444444, \"#bd3786\"], [0.5555555555555556, \"#d8576b\"], [0.6666666666666666, \"#ed7953\"], [0.7777777777777778, \"#fb9f3a\"], [0.8888888888888888, \"#fdca26\"], [1.0, \"#f0f921\"]], \"type\": \"surface\"}], \"table\": [{\"cells\": {\"fill\": {\"color\": \"#EBF0F8\"}, \"line\": {\"color\": \"white\"}}, \"header\": {\"fill\": {\"color\": \"#C8D4E3\"}, \"line\": {\"color\": \"white\"}}, \"type\": \"table\"}]}, \"layout\": {\"annotationdefaults\": {\"arrowcolor\": \"#2a3f5f\", \"arrowhead\": 0, \"arrowwidth\": 1}, \"colorscale\": {\"diverging\": [[0, \"#8e0152\"], [0.1, \"#c51b7d\"], [0.2, \"#de77ae\"], [0.3, \"#f1b6da\"], [0.4, \"#fde0ef\"], [0.5, \"#f7f7f7\"], [0.6, \"#e6f5d0\"], [0.7, \"#b8e186\"], [0.8, \"#7fbc41\"], [0.9, \"#4d9221\"], [1, \"#276419\"]], \"sequential\": [[0.0, \"#0d0887\"], [0.1111111111111111, \"#46039f\"], [0.2222222222222222, \"#7201a8\"], [0.3333333333333333, \"#9c179e\"], [0.4444444444444444, \"#bd3786\"], [0.5555555555555556, \"#d8576b\"], [0.6666666666666666, \"#ed7953\"], [0.7777777777777778, \"#fb9f3a\"], [0.8888888888888888, \"#fdca26\"], [1.0, \"#f0f921\"]], \"sequentialminus\": [[0.0, \"#0d0887\"], [0.1111111111111111, \"#46039f\"], [0.2222222222222222, \"#7201a8\"], [0.3333333333333333, \"#9c179e\"], [0.4444444444444444, \"#bd3786\"], [0.5555555555555556, \"#d8576b\"], [0.6666666666666666, \"#ed7953\"], [0.7777777777777778, \"#fb9f3a\"], [0.8888888888888888, \"#fdca26\"], [1.0, \"#f0f921\"]]}, \"colorway\": [\"#636efa\", \"#EF553B\", \"#00cc96\", \"#ab63fa\", \"#FFA15A\", \"#19d3f3\", \"#FF6692\", \"#B6E880\", \"#FF97FF\", \"#FECB52\"], \"font\": {\"color\": \"#2a3f5f\"}, \"geo\": {\"bgcolor\": \"white\", \"lakecolor\": \"white\", \"landcolor\": \"#E5ECF6\", \"showlakes\": true, \"showland\": true, \"subunitcolor\": \"white\"}, \"hoverlabel\": {\"align\": \"left\"}, \"hovermode\": \"closest\", \"mapbox\": {\"style\": \"light\"}, \"paper_bgcolor\": \"white\", \"plot_bgcolor\": \"#E5ECF6\", \"polar\": {\"angularaxis\": {\"gridcolor\": \"white\", \"linecolor\": \"white\", \"ticks\": \"\"}, \"bgcolor\": \"#E5ECF6\", \"radialaxis\": {\"gridcolor\": \"white\", \"linecolor\": \"white\", \"ticks\": \"\"}}, \"scene\": {\"xaxis\": {\"backgroundcolor\": \"#E5ECF6\", \"gridcolor\": \"white\", \"gridwidth\": 2, \"linecolor\": \"white\", \"showbackground\": true, \"ticks\": \"\", \"zerolinecolor\": \"white\"}, \"yaxis\": {\"backgroundcolor\": \"#E5ECF6\", \"gridcolor\": \"white\", \"gridwidth\": 2, \"linecolor\": \"white\", \"showbackground\": true, \"ticks\": \"\", \"zerolinecolor\": \"white\"}, \"zaxis\": {\"backgroundcolor\": \"#E5ECF6\", \"gridcolor\": \"white\", \"gridwidth\": 2, \"linecolor\": \"white\", \"showbackground\": true, \"ticks\": \"\", \"zerolinecolor\": \"white\"}}, \"shapedefaults\": {\"line\": {\"color\": \"#2a3f5f\"}}, \"ternary\": {\"aaxis\": {\"gridcolor\": \"white\", \"linecolor\": \"white\", \"ticks\": \"\"}, \"baxis\": {\"gridcolor\": \"white\", \"linecolor\": \"white\", \"ticks\": \"\"}, \"bgcolor\": \"#E5ECF6\", \"caxis\": {\"gridcolor\": \"white\", \"linecolor\": \"white\", \"ticks\": \"\"}}, \"title\": {\"x\": 0.05}, \"xaxis\": {\"automargin\": true, \"gridcolor\": \"white\", \"linecolor\": \"white\", \"ticks\": \"\", \"zerolinecolor\": \"white\", \"zerolinewidth\": 2}, \"yaxis\": {\"automargin\": true, \"gridcolor\": \"white\", \"linecolor\": \"white\", \"ticks\": \"\", \"zerolinecolor\": \"white\", \"zerolinewidth\": 2}}}, \"title\": {\"text\": \"Default Sklearn Model Performance\"}},\n",
       "                        {\"responsive\": true}\n",
       "                    ).then(function(){\n",
       "                            \n",
       "var gd = document.getElementById('750ae6ae-ae5f-4a82-9478-bab1547f9238');\n",
       "var x = new MutationObserver(function (mutations, observer) {{\n",
       "        var display = window.getComputedStyle(gd).display;\n",
       "        if (!display || display === 'none') {{\n",
       "            console.log([gd, 'removed!']);\n",
       "            Plotly.purge(gd);\n",
       "            observer.disconnect();\n",
       "        }}\n",
       "}});\n",
       "\n",
       "// Listen for the removal of the full notebook cells\n",
       "var notebookContainer = gd.closest('#notebook-container');\n",
       "if (notebookContainer) {{\n",
       "    x.observe(notebookContainer, {childList: true});\n",
       "}}\n",
       "\n",
       "// Listen for the clearing of the current output cell\n",
       "var outputEl = gd.closest('.output');\n",
       "if (outputEl) {{\n",
       "    x.observe(outputEl, {childList: true});\n",
       "}}\n",
       "\n",
       "                        }).then(function(){\n",
       "                            function downloadimage(format, height, width, filename) {var p = document.getElementById('750ae6ae-ae5f-4a82-9478-bab1547f9238');Plotly.downloadImage(p, {format: format, height: height, width: width, filename: filename});};if(document.readyState == 'complete') {downloadimage('png', 1000, 1000, 'default_ml_models');}\n",
       "                        })\n",
       "                };\n",
       "                });\n",
       "            </script>\n",
       "        </div>"
      ]
     },
     "metadata": {},
     "output_type": "display_data"
    }
   ],
   "source": [
    "LCP.lc_defaults_iplot(X_train,y_train,X_test,y_test,test_loan_data)"
   ]
  },
  {
   "cell_type": "code",
   "execution_count": null,
   "metadata": {},
   "outputs": [],
   "source": []
  }
 ],
 "metadata": {
  "kernelspec": {
   "display_name": "Python 3",
   "language": "python",
   "name": "python3"
  },
  "language_info": {
   "codemirror_mode": {
    "name": "ipython",
    "version": 3
   },
   "file_extension": ".py",
   "mimetype": "text/x-python",
   "name": "python",
   "nbconvert_exporter": "python",
   "pygments_lexer": "ipython3",
   "version": "3.7.3"
  }
 },
 "nbformat": 4,
 "nbformat_minor": 2
}
